{
 "cells": [
  {
   "cell_type": "code",
   "execution_count": null,
   "metadata": {},
   "outputs": [],
   "source": [
    "import sys\n",
    "import numpy             as np\n",
    "import tensorflow        as tf\n",
    "import matplotlib.pyplot as plt\n",
    "\n",
    "from sklearn.preprocessing import MinMaxScaler\n",
    "from tensorflow            import random_uniform_initializer as rui"
   ]
  },
  {
   "cell_type": "code",
   "execution_count": null,
   "metadata": {},
   "outputs": [],
   "source": [
    "from gudhi.representations import DiagramScaler, Padding, PerslayModel"
   ]
  },
  {
   "cell_type": "markdown",
   "metadata": {},
   "source": [
    "# Input persistence diagram"
   ]
  },
  {
   "cell_type": "code",
   "execution_count": null,
   "metadata": {},
   "outputs": [],
   "source": [
    "diag = [np.array([[0.,4.],[1.,2.],[3.,8.],[6.,8.]])]"
   ]
  },
  {
   "cell_type": "code",
   "execution_count": null,
   "metadata": {},
   "outputs": [],
   "source": [
    "plt.scatter(diag[0][:,0], diag[0][:,1])\n",
    "plt.plot([0.,6.],[0.,6.])\n",
    "plt.show()"
   ]
  },
  {
   "cell_type": "code",
   "execution_count": null,
   "metadata": {},
   "outputs": [],
   "source": [
    "diag = DiagramScaler(use=True, scalers=[([0,1], MinMaxScaler())]).fit_transform(diag)\n",
    "diag = Padding(use=True).fit_transform(diag)"
   ]
  },
  {
   "cell_type": "code",
   "execution_count": null,
   "metadata": {},
   "outputs": [],
   "source": [
    "plt.scatter(diag[0][:,0], diag[0][:,1])\n",
    "plt.plot([0.,1.],[0.,1.])\n",
    "plt.show()"
   ]
  },
  {
   "cell_type": "code",
   "execution_count": null,
   "metadata": {},
   "outputs": [],
   "source": [
    "D = np.stack(np.array(diag, dtype=np.float32), 0)"
   ]
  },
  {
   "cell_type": "code",
   "execution_count": null,
   "metadata": {},
   "outputs": [],
   "source": [
    "diagrams, empty_feats = [D], np.empty([1,0], dtype=np.float32)\n",
    "perslayParameters = {}"
   ]
  },
  {
   "cell_type": "markdown",
   "metadata": {},
   "source": [
    "# Persistence weight and permutation invariant operation"
   ]
  },
  {
   "cell_type": "markdown",
   "metadata": {},
   "source": [
    "## Choose persistence weights"
   ]
  },
  {
   "cell_type": "code",
   "execution_count": null,
   "metadata": {},
   "outputs": [],
   "source": [
    "perslayParameters[\"pweight_train\"]  = False"
   ]
  },
  {
   "cell_type": "code",
   "execution_count": null,
   "metadata": {},
   "outputs": [],
   "source": [
    "perslayParameters[\"pweight\"]        = \"power\"\n",
    "perslayParameters[\"pweight_power\"]  = 2\n",
    "perslayParameters[\"pweight_init\"]   = 1."
   ]
  },
  {
   "cell_type": "code",
   "execution_count": null,
   "metadata": {},
   "outputs": [],
   "source": [
    "perslayParameters[\"pweight\"]        = \"grid\"\n",
    "perslayParameters[\"pweight_size\"]   = [100,100]\n",
    "perslayParameters[\"pweight_bnds\"]   = ((-.001, 1.001), (-.001, 1.001))\n",
    "perslayParameters[\"pweight_init\"]   = np.tile(np.arange(0.,100.,1, dtype=np.float32)[np.newaxis,:], [100,1])"
   ]
  },
  {
   "cell_type": "code",
   "execution_count": null,
   "metadata": {},
   "outputs": [],
   "source": [
    "perslayParameters[\"pweight\"]        = \"gmix\"\n",
    "perslayParameters[\"pweight_num\"]    = 3\n",
    "perslayParameters[\"pweight_init\"]   = np.array(np.vstack([np.random.uniform(0.,1.,[2,3]), \n",
    "                                                          5.*np.ones([2,3])]), dtype=np.float32)"
   ]
  },
  {
   "cell_type": "code",
   "execution_count": null,
   "metadata": {},
   "outputs": [],
   "source": [
    "perslayParameters[\"pweight\"]        = None"
   ]
  },
  {
   "cell_type": "markdown",
   "metadata": {},
   "source": [
    "## Choose permutation invariant operation"
   ]
  },
  {
   "cell_type": "code",
   "execution_count": null,
   "metadata": {},
   "outputs": [],
   "source": [
    "perslayParameters[\"perm_op\"] = \"sum\""
   ]
  },
  {
   "cell_type": "code",
   "execution_count": null,
   "metadata": {},
   "outputs": [],
   "source": [
    "perslayParameters[\"perm_op\"] = \"topk\"\n",
    "perslayParameters[\"keep\"]    = 3"
   ]
  },
  {
   "cell_type": "code",
   "execution_count": null,
   "metadata": {},
   "outputs": [],
   "source": [
    "perslayParameters[\"perm_op\"] = \"max\""
   ]
  },
  {
   "cell_type": "code",
   "execution_count": null,
   "metadata": {},
   "outputs": [],
   "source": [
    "perslayParameters[\"perm_op\"] = \"mean\""
   ]
  },
  {
   "cell_type": "markdown",
   "metadata": {},
   "source": [
    "# Persistence representation"
   ]
  },
  {
   "cell_type": "markdown",
   "metadata": {},
   "source": [
    "## Persistence image"
   ]
  },
  {
   "cell_type": "code",
   "execution_count": null,
   "metadata": {},
   "outputs": [],
   "source": [
    "perslayParameters[\"layer\"]           = \"Image\"\n",
    "perslayParameters[\"layer_train\"]     = False\n",
    "perslayParameters[\"image_size\"]      = (100, 100)\n",
    "perslayParameters[\"image_bnds\"]      = ((-.501, 1.501), (-.501, 1.501))\n",
    "perslayParameters[\"lvariance_init\"]  = .1\n",
    "perslayParameters[\"final_model\"]     = tf.keras.Sequential([tf.keras.layers.Flatten()])"
   ]
  },
  {
   "cell_type": "code",
   "execution_count": null,
   "metadata": {},
   "outputs": [],
   "source": [
    "model = PerslayModel(name=\"perslay\", diagdim=2, perslay_parameters=[perslayParameters], rho=\"identity\")\n",
    "vector = model([diagrams, empty_feats])"
   ]
  },
  {
   "cell_type": "code",
   "execution_count": null,
   "metadata": {},
   "outputs": [],
   "source": [
    "# Plot representation\n",
    "V = np.flip(np.reshape(vector[0,:], [int(np.sqrt(vector[0,:].shape[0])), int(np.sqrt(vector[0,:].shape[0]))]), 0)\n",
    "plt.figure()\n",
    "plt.imshow(V, cmap=\"Purples\")\n",
    "cb = plt.colorbar()\n",
    "cb.ax.tick_params(labelsize=14)\n",
    "plt.show()\n",
    "    \n",
    "# Plot weight\n",
    "if perslayParameters[\"pweight\"] == \"grid\":\n",
    "    W = model.vars[0][0].numpy()\n",
    "    weights = np.flip(W, 0)\n",
    "    plt.figure()\n",
    "    plt.imshow(weights, cmap=\"Purples\", zorder=1)\n",
    "    ((xm,xM),(ym,yM)) = perslayParameters[\"pweight_bnds\"]\n",
    "    [xs, ys] = perslayParameters[\"pweight_size\"]\n",
    "    plt.scatter([int(xs*(x-xm)/(xM-xm)) for x in diag[0][:,0]], \n",
    "                [ys-int(ys*(y-ym)/(yM-ym)) for y in diag[0][:,1]], \n",
    "                s=10, color=\"red\", zorder=2)\n",
    "    plt.show()\n",
    "        \n",
    "if perslayParameters[\"pweight\"] == \"gmix\":\n",
    "    means = model.vars[0][0][:2,:].numpy()\n",
    "    varis = model.vars[0][0][2:,:].numpy()\n",
    "    x = np.arange(-.5, 1.5, .001)\n",
    "    y = np.arange(-.5, 1.5, .001)\n",
    "    xx, yy = np.meshgrid(x, y)\n",
    "    z = np.zeros(xx.shape)\n",
    "    for idx_g in range(means.shape[1]):\n",
    "        z += np.exp(-((xx-means[0,idx_g])**2 * (varis[0,idx_g])**2 \n",
    "                    + (yy-means[1,idx_g])**2 * (varis[1,idx_g])**2 ))\n",
    "    plt.contourf(xx, yy, z)\n",
    "    plt.scatter(diag[0][:,0], diag[0][:,1], s=50, color=\"red\")\n",
    "    plt.show()"
   ]
  },
  {
   "cell_type": "markdown",
   "metadata": {},
   "source": [
    "## Persistence landscape / entropy / Betti curve"
   ]
  },
  {
   "cell_type": "code",
   "execution_count": null,
   "metadata": {},
   "outputs": [],
   "source": [
    "perslayParameters[\"layer\"]          = \"Landscape\"\n",
    "#perslayParameters[\"layer\"]          = \"BettiCurve\"\n",
    "#perslayParameters[\"layer\"]          = \"Entropy\"\n",
    "perslayParameters[\"layer_train\"]    = False\n",
    "perslayParameters[\"lsample_num\"]    = 3000\n",
    "perslayParameters[\"lsample_init\"]   = np.array(np.arange(-1.,2.,.001), dtype=np.float32)\n",
    "perslayParameters[\"theta\"]          = 100 # used only if layer is \"BettiCurve\" or \"Entropy\"\n",
    "perslayParameters[\"final_model\"]    = \"identity\""
   ]
  },
  {
   "cell_type": "code",
   "execution_count": null,
   "metadata": {},
   "outputs": [],
   "source": [
    "model = PerslayModel(name=\"perslay\", diagdim=2, perslay_parameters=[perslayParameters], rho=\"identity\")\n",
    "vector = model([diagrams, empty_feats])"
   ]
  },
  {
   "cell_type": "code",
   "execution_count": null,
   "metadata": {},
   "outputs": [],
   "source": [
    "#Plot representation\n",
    "V = vector[0,:]\n",
    "plt.figure()\n",
    "if perslayParameters[\"perm_op\"] == \"topk\":\n",
    "    V = np.reshape(V, [-1, perslayParameters[\"keep\"]])\n",
    "    for k in range(perslayParameters[\"keep\"]):\n",
    "        plt.plot(V[:,k], linewidth=5.0)\n",
    "else:\n",
    "    plt.plot(V, linewidth=5.0)\n",
    "plt.show()\n",
    "    \n",
    "# Plot weight\n",
    "if perslayParameters[\"pweight\"] == \"grid\":\n",
    "    W = model.vars[0][0].numpy()\n",
    "    weights = np.flip(W, 0)\n",
    "    plt.figure()\n",
    "    plt.imshow(weights, cmap=\"Purples\", zorder=1)\n",
    "    ((xm,xM),(ym,yM)) = perslayParameters[\"pweight_bnds\"]\n",
    "    [xs, ys] = perslayParameters[\"pweight_size\"]\n",
    "    plt.scatter([int(xs*(x-xm)/(xM-xm)) for x in diag[0][:,0]], \n",
    "                [ys-int(ys*(y-ym)/(yM-ym)) for y in diag[0][:,1]], \n",
    "                s=10, color=\"red\", zorder=2)\n",
    "    plt.show()\n",
    "        \n",
    "if perslayParameters[\"pweight\"] == \"gmix\":\n",
    "    means = model.vars[0][0][:2,:].numpy()\n",
    "    varis = model.vars[0][0][2:,:].numpy()\n",
    "    x = np.arange(-.5, 1.5, .001)\n",
    "    y = np.arange(-.5, 1.5, .001)\n",
    "    xx, yy = np.meshgrid(x, y)\n",
    "    z = np.zeros(xx.shape)\n",
    "    for idx_g in range(means.shape[1]):\n",
    "        z += np.exp(-((xx-means[0,idx_g])**2 * (varis[0,idx_g])**2 \n",
    "                    + (yy-means[1,idx_g])**2 * (varis[1,idx_g])**2 ))\n",
    "    plt.contourf(xx, yy, z)\n",
    "    plt.scatter(diag[0][:,0], diag[0][:,1], s=50, color=\"red\")\n",
    "    plt.show()"
   ]
  },
  {
   "cell_type": "code",
   "execution_count": null,
   "metadata": {},
   "outputs": [],
   "source": []
  }
 ],
 "metadata": {
  "kernelspec": {
   "display_name": "Python 3",
   "language": "python",
   "name": "python3"
  },
  "language_info": {
   "codemirror_mode": {
    "name": "ipython",
    "version": 3
   },
   "file_extension": ".py",
   "mimetype": "text/x-python",
   "name": "python",
   "nbconvert_exporter": "python",
   "pygments_lexer": "ipython3",
   "version": "3.6.8"
  },
  "toc": {
   "base_numbering": 1,
   "nav_menu": {},
   "number_sections": true,
   "sideBar": true,
   "skip_h1_title": false,
   "title_cell": "Table of Contents",
   "title_sidebar": "Contents",
   "toc_cell": false,
   "toc_position": {},
   "toc_section_display": true,
   "toc_window_display": true
  }
 },
 "nbformat": 4,
 "nbformat_minor": 2
}
