{
 "cells": [
  {
   "cell_type": "code",
   "execution_count": null,
   "metadata": {},
   "outputs": [],
   "source": [
    "import sys\n",
    "import numpy             as np\n",
    "import tensorflow        as tf\n",
    "import matplotlib.pyplot as plt\n",
    "from sklearn.preprocessing import MinMaxScaler\n",
    "import gudhi.representations as gdr\n",
    "import gudhi.tensorflow as gdtf"
   ]
  },
  {
   "cell_type": "code",
   "execution_count": null,
   "metadata": {},
   "outputs": [],
   "source": [
    "diagrams = [np.array([[0.,4.],[1.,2.],[3.,8.],[6.,8.]]), np.array([[3.,6.],[4.,5.]])]"
   ]
  },
  {
   "cell_type": "code",
   "execution_count": null,
   "metadata": {},
   "outputs": [],
   "source": [
    "plt.scatter(diagrams[0][:,0], diagrams[0][:,1])\n",
    "plt.plot([0.,6.],[0.,6.])\n",
    "plt.show()"
   ]
  },
  {
   "cell_type": "code",
   "execution_count": null,
   "metadata": {},
   "outputs": [],
   "source": [
    "diagrams = gdr.DiagramScaler(use=True, scalers=[([0,1], MinMaxScaler())]).fit_transform(diagrams)"
   ]
  },
  {
   "cell_type": "code",
   "execution_count": null,
   "metadata": {},
   "outputs": [],
   "source": [
    "plt.scatter(diagrams[1][:,0], diagrams[1][:,1])\n",
    "plt.plot([0.,1.],[0.,1.])\n",
    "plt.show()"
   ]
  },
  {
   "cell_type": "code",
   "execution_count": null,
   "metadata": {},
   "outputs": [],
   "source": [
    "diagrams = tf.concat([\n",
    "    tf.RaggedTensor.from_tensor(tf.constant(diagrams[0][None,:], dtype=tf.float32)),\n",
    "    tf.RaggedTensor.from_tensor(tf.constant(diagrams[1][None,:], dtype=tf.float32))\n",
    "], axis=0)"
   ]
  },
  {
   "cell_type": "code",
   "execution_count": null,
   "metadata": {},
   "outputs": [],
   "source": [
    "print(diagrams)"
   ]
  },
  {
   "cell_type": "code",
   "execution_count": null,
   "metadata": {
    "scrolled": true
   },
   "outputs": [],
   "source": [
    "with tf.GradientTape() as tape:\n",
    "    \n",
    "    rho = tf.identity \n",
    "    #rho = tf.keras.layers.Dense(10)\n",
    "    #rho = tf.keras.layers.Conv2D(3,5)\n",
    "    \n",
    "    #phi = gdtf.GaussianPerslayPhi((100, 100), ((-.5, 1.5), (-.5, 1.5)), .1)\n",
    "    phi = gdtf.TentPerslayPhi(np.array(np.arange(-1.,2.,.001), dtype=np.float32))\n",
    "    #phi = gdtf.FlatPerslayPhi(np.array(np.arange(-1.,2.,.001), dtype=np.float32), 100.)\n",
    "    \n",
    "    #weight = gdtf.GaussianMixturePerslayWeight(np.array([[.5],[.5],[5],[5]], dtype=np.float32))\n",
    "    #weight = gdtf.PowerPerslayWeight(1.,0.)\n",
    "    weight = gdtf.GridPerslayWeight(np.array(np.random.uniform(size=[100,100]),dtype=np.float32),((-0.01, 1.01),(-0.01, 1.01)))\n",
    "    \n",
    "    #perm_op = tf.math.reduce_sum\n",
    "    perm_op = 'top3'\n",
    "    \n",
    "    perslay = gdtf.Perslay(phi=phi, weight=weight, perm_op=perm_op, rho=rho)\n",
    "    vectors = perslay(diagrams)\n",
    "    \n",
    "#print(tape.gradient(vectors, phi.variance))"
   ]
  },
  {
   "cell_type": "code",
   "execution_count": null,
   "metadata": {},
   "outputs": [],
   "source": [
    "# GridPerslayWeight\n",
    "W = np.flip(weight.grid.numpy(), 0)\n",
    "plt.figure()\n",
    "plt.imshow(W, cmap=\"Purples\", zorder=1)\n",
    "((xm,xM),(ym,yM)) = weight.grid_bnds\n",
    "[xs, ys] = weight.grid.shape\n",
    "plt.scatter([int(xs*(x-xm)/(xM-xm)) for x in diagrams[0][:,0]], \n",
    "            [ys-int(ys*(y-ym)/(yM-ym)) for y in diagrams[0][:,1]], \n",
    "            s=10, color=\"red\", zorder=2)\n",
    "plt.show()"
   ]
  },
  {
   "cell_type": "code",
   "execution_count": null,
   "metadata": {},
   "outputs": [],
   "source": [
    "# GaussianMixturePerslayWeight\n",
    "means = weight.W[:2,:].numpy()\n",
    "varis = weight.W[2:,:].numpy()\n",
    "x, y = np.arange(-.5, 1.5, .001), np.arange(-.5, 1.5, .001)\n",
    "xx, yy = np.meshgrid(x, y)\n",
    "z = np.zeros(xx.shape)\n",
    "for idx_g in range(means.shape[1]):\n",
    "    z += np.exp(-((xx-means[0,idx_g])**2 * (varis[0,idx_g])**2 + (yy-means[1,idx_g])**2 * (varis[1,idx_g])**2 ))\n",
    "plt.contourf(xx, yy, z)\n",
    "plt.scatter(diagrams[0][:,0], diagrams[0][:,1], s=50, color=\"red\")\n",
    "plt.show()"
   ]
  },
  {
   "cell_type": "code",
   "execution_count": null,
   "metadata": {},
   "outputs": [],
   "source": [
    "# TentPerslayPhi\n",
    "plt.figure()\n",
    "vectors = np.reshape(vectors[0,:], [-1, 3])\n",
    "for k in range(3):\n",
    "    plt.plot(vectors[:,k], linewidth=5.)\n",
    "plt.show()"
   ]
  },
  {
   "cell_type": "code",
   "execution_count": null,
   "metadata": {},
   "outputs": [],
   "source": [
    "# FlatPerslayPhi\n",
    "plt.figure()\n",
    "plt.plot(vectors[0,:], linewidth=5.)\n",
    "plt.show()"
   ]
  },
  {
   "cell_type": "code",
   "execution_count": null,
   "metadata": {},
   "outputs": [],
   "source": [
    "# GaussianPerslayPhi\n",
    "plt.figure()\n",
    "plt.imshow(np.flip(vectors[0,:,:,0],0), cmap=\"Purples\")\n",
    "cb = plt.colorbar()\n",
    "cb.ax.tick_params(labelsize=14)\n",
    "plt.show()"
   ]
  },
  {
   "cell_type": "code",
   "execution_count": null,
   "metadata": {},
   "outputs": [],
   "source": []
  }
 ],
 "metadata": {
  "kernelspec": {
   "display_name": "Python 3",
   "language": "python",
   "name": "python3"
  },
  "language_info": {
   "codemirror_mode": {
    "name": "ipython",
    "version": 3
   },
   "file_extension": ".py",
   "mimetype": "text/x-python",
   "name": "python",
   "nbconvert_exporter": "python",
   "pygments_lexer": "ipython3",
   "version": "3.9.5"
  },
  "toc": {
   "base_numbering": 1,
   "nav_menu": {},
   "number_sections": true,
   "sideBar": true,
   "skip_h1_title": false,
   "title_cell": "Table of Contents",
   "title_sidebar": "Contents",
   "toc_cell": false,
   "toc_position": {},
   "toc_section_display": true,
   "toc_window_display": true
  }
 },
 "nbformat": 4,
 "nbformat_minor": 2
}
