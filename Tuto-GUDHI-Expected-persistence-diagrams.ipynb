{
 "cells": [
  {
   "cell_type": "markdown",
   "metadata": {},
   "source": [
    "# Expected persistence diagrams"
   ]
  },
  {
   "cell_type": "markdown",
   "metadata": {},
   "source": [
    "Theo Lacombe"
   ]
  },
  {
   "cell_type": "markdown",
   "metadata": {},
   "source": [
    "## A topological descriptor for a random process"
   ]
  },
  {
   "cell_type": "markdown",
   "metadata": {},
   "source": [
    "This tutorial illustrates the notion of \"Expected Persistence Diagram\" introduced in a work of Chazal and Divol https://arxiv.org/pdf/1802.10457.pdf. In a nutshell, the expected persistence diagram encodes the topology of a *random* process as a *deterministic* measure. "
   ]
  },
  {
   "cell_type": "markdown",
   "metadata": {},
   "source": [
    "Recall that given an object $X$, say a point cloud embedded in the Euclidean space $\\mathbb{R}^d$, one can compute its persistence diagram $\\mathrm{Dgm}(X)$ which is a point cloud supported on a half-plane $\\Omega \\subset \\mathbb{R}^2$ (see this tutorial https://github.com/GUDHI/TDA-tutorial/blob/master/Tuto-GUDHI-persistence-diagrams.ipynb for an introduction to persistence diagrams).\n",
    "\n",
    "Now, consider that our point cloud is random. Here, we will consider that it consists of $n$ points sampled _i.i.d_ with respect to some law $\\xi$, thus denoted as $\\mathbb{X}_n = \\{X_1 \\cdots X_n\\}$, with $X_i \\sim \\xi$. To a *random* realization of $\\mathbb{X}_n$ corresponds a *random* persistence diagram. What can be said about this object? Can it be turn into a deterministic topological descriptor?\n",
    "\n",
    "As often, the simplest way to derive from a random object a deterministic summary is to consider its average behavior. Namely, for each compact $K$ included in the half-plane $\\Omega$, one can ask: _how many points of my (random) diagrams belong to $K$, on average?_. It leads to the following definition of **expected persistence diagram** of $\\mathbb{X}_n$, denoted by $\\mathbb{ED}(\\mathbb{X}_n)$:\n",
    "\n",
    "$$\\forall K \\subset \\Omega, \\mathbb{ED}(\\mathbb{X}_n)[K] := \\mathbb{E}({\\mathrm{Dgm}(\\mathbb{X}_n)}[K]),$$\n",
    "\n",
    "where $\\mathrm{Dgm}(\\mathbb{X}_n)[K]$ is, by definition, the (random) number of points in $\\mathrm{Dgm}(\\mathbb{X}_n)$ that belong to $K$."
   ]
  },
  {
   "cell_type": "markdown",
   "metadata": {},
   "source": [
    "Chazal and Divol proved (under mild assumptions) that $\\mathbb{ED}(\\mathbb{X}_n)$ is a deterministic measure which has a density with respect to the Lebesgue measure on $\\Omega$. Later, Divol and Lacombe (see https://arxiv.org/pdf/1901.03048.pdf) showed that $\\mathbb{ED}(\\mathbb{X}_n)$ is stable with respect to $\\xi$, which states that point clouds sampled from similar random processes must have similar expected persistence diagrams."
   ]
  },
  {
   "cell_type": "markdown",
   "metadata": {},
   "source": [
    "## A numerical illustration"
   ]
  },
  {
   "cell_type": "markdown",
   "metadata": {},
   "source": [
    "Theoretically computing $\\mathbb{ED}(\\mathbb{X}_n)$ cannot be done. In practice, one is more likely to have access to some observations $(\\mathbb{X}_n^{(k)})_k \\in \\mathbb{R}^{d \\times n \\times n_\\mathrm{obs}}$, $k = 1 \\dots n_\\mathrm{obs}$. As usual, the empirical (arithmetic) mean converges to the expectation, that is\n",
    "$$\\lim_{n_\\mathrm{obs} \\to \\infty} \\frac{1}{n_\\mathrm{obs}} \\sum_{k=1}^{n_\\mathrm{obs}} \\mathrm{Dgm}(\\mathbb{X}_n^{(k)}) = \\mathbb{ED}(\\mathbb{X}_n).$$\n",
    "\n",
    "Here, the sum of diagrams must be understood as a sum of measures. Briefly, it consists in taking the union of points in each diagram $\\mathrm{Dgm}(\\mathbb{X}_n^{(k)})$ (counted with multiplicity), and dividing the multiplicities (viewed as a weight) by $n_\\mathrm{obs}$."
   ]
  },
  {
   "cell_type": "markdown",
   "metadata": {},
   "source": [
    "#### Experiment overview"
   ]
  },
  {
   "cell_type": "markdown",
   "metadata": {},
   "source": [
    "We will showcase expected diagrams in the following context:\n",
    "- Consider a point cloud $X$ with $n_\\mathrm{tot}$ points, which splits in $(1-p)n_\\mathrm{tot}$ points sampled on a nice shape $\\mathcal{M}$ (here, a torus), and $p n_\\mathrm{tot}$ outliers, where $p \\in (0,1)$ is the proportion of outliers. Let us call $X_\\mathrm{true}$ and $X_\\mathrm{out}$ these two point clouds.\n",
    "- Computing directly the (alpha complex) diagram of the whole point cloud $X$ won't reflect the topology of $\\mathcal{M}$ in general, due to the presence of outliers. However, if $p$ is small enough, one can expect that by sampling $n < n_\\mathrm{tot}$ points on $X$, we will avoid sampling outliers with high probability. We will thus recover a diagram close to $\\mathrm{Dgm}(X_\\mathrm{true})$ \"most of the time\", provided we sampled enough points.\n",
    "- Repeating this process, and then averaging, we obtain (an estimator of) $\\mathbb{ED}(\\mathbb{X}_n)$.\n",
    "- As the random processes $\\mathbb{X}_n$ and $(\\mathbb{X}_\\mathrm{true})_n$ (sampling $n$ points on $X$ and on $X_\\mathrm{true}$ respectively) are similar (in Wasserstein sense), so should be their expected diagrams. "
   ]
  },
  {
   "cell_type": "markdown",
   "metadata": {},
   "source": [
    "#### Imports"
   ]
  },
  {
   "cell_type": "code",
   "execution_count": 1,
   "metadata": {},
   "outputs": [],
   "source": [
    "# Note: %matplotlib notebook allows for iteractive 3D plot.\n",
    "#%matplotlib notebook\n",
    "%matplotlib inline"
   ]
  },
  {
   "cell_type": "code",
   "execution_count": 2,
   "metadata": {},
   "outputs": [],
   "source": [
    "import numpy as np\n",
    "import gudhi as gd\n",
    "import matplotlib.pyplot as plt\n",
    "from matplotlib.patches import Polygon\n",
    "from matplotlib import rc\n",
    "plt.rc('text', usetex=True)\n",
    "plt.rc('font', family='serif')"
   ]
  },
  {
   "cell_type": "markdown",
   "metadata": {},
   "source": [
    "#### Sampling functions"
   ]
  },
  {
   "cell_type": "code",
   "execution_count": 3,
   "metadata": {},
   "outputs": [],
   "source": [
    "def sample_circle(n):\n",
    "    theta = 2 * np.pi * np.random.rand(n)\n",
    "    x, y = np.cos(theta), np.sin(theta)\n",
    "    return np.array([x, y]).T\n",
    "\n",
    "\n",
    "def sample_torus(n, r1, r2):\n",
    "    theta1 = 2 * np.pi * np.random.rand(n)\n",
    "    theta2 = 2 * np.pi * np.random.rand(n)\n",
    "\n",
    "    x = (r1 + r2 * np.cos(theta2)) * np.cos(theta1)\n",
    "    y = (r1 + r2 * np.cos(theta2)) * np.sin(theta1)\n",
    "    z = r2 * np.sin(theta2)\n",
    "\n",
    "    X = np.array([x, y, z]).T\n",
    "\n",
    "    return X"
   ]
  },
  {
   "cell_type": "code",
   "execution_count": 4,
   "metadata": {},
   "outputs": [],
   "source": [
    "def sample_noise(N, ndim, scale=1., type=\"uniform\"):\n",
    "    '''\n",
    "    noise sample uniforme on [-scale, scale]^2 or gaussien N(0, scale^2)\n",
    "    '''\n",
    "    if type==\"uniform\":\n",
    "        X_noise = scale * (2 * np.random.rand(N, ndim) - 1)\n",
    "    elif type==\"gaussian\":\n",
    "        X_noise = scale * np.random.randn(N, ndim)\n",
    "    return X_noise\n",
    "\n",
    "\n",
    "def add_noise(X_noise, X):\n",
    "    return np.concatenate([X, X_noise])"
   ]
  },
  {
   "cell_type": "code",
   "execution_count": 5,
   "metadata": {},
   "outputs": [],
   "source": [
    "# Compute persistence diagram using the Cech filtration\n",
    "def alphacomplex(X, hdim=1):\n",
    "    ac = gd.AlphaComplex(points=X)\n",
    "    st = ac.create_simplex_tree()\n",
    "    pers = st.persistence(min_persistence=0.0001)\n",
    "    h1 = st.persistence_intervals_in_dimension(hdim)\n",
    "    return np.sqrt(np.array(h1))  # we must sqrt to get Cech dgm"
   ]
  },
  {
   "cell_type": "code",
   "execution_count": 6,
   "metadata": {},
   "outputs": [],
   "source": [
    "def expected_dgm(X, n, k, hdim=1, replace=True):\n",
    "    '''\n",
    "    Subsample n points in a point cloud X, k times, and return the k computed persistence diagrams.\n",
    "    '''\n",
    "    N = len(X)  # total nb of points\n",
    "    samples = [np.random.choice(N, n, replace=replace) for _ in range(k)]\n",
    "    Xs = [X[sample] for sample in samples]\n",
    "    diags = [alphacomplex(X, hdim=hdim) for X in Xs]\n",
    "    return diags"
   ]
  },
  {
   "cell_type": "markdown",
   "metadata": {},
   "source": [
    "#### Plot utils"
   ]
  },
  {
   "cell_type": "code",
   "execution_count": 7,
   "metadata": {},
   "outputs": [],
   "source": [
    "# Discretization utils to plot expected PD in a nice way.\n",
    "\n",
    "def discretize_dgm(diag, m=0, M=1, res=30, expo=2., filt=None, sigma=1.):\n",
    "    '''\n",
    "    Discretize one diagram, returns a 2D-histogram of size (res x res), the grid representing [m, M]^2.\n",
    "    '''\n",
    "    if diag.size:\n",
    "        h2d = np.histogram2d(diag[:,0], diag[:,1], bins=res, range=[[m, M],[m, M]])[0]\n",
    "        h2d = np.flip(h2d.T, axis=0)\n",
    "        if filt==\"gaussian\":\n",
    "            h2d = gaussian_filter(h2d, sigma=sigma)\n",
    "        return h2d\n",
    "    else:\n",
    "        return np.zeros((res, res))\n",
    "\n",
    "def tohist(diags, m=0, M=1, res=30, expo=2.,filt=None, sigma=1.):\n",
    "    '''Take a list of observed diagrams 'diags' and return an histogram\n",
    "    which is an estimator of E(Dgm(X_n)) for some integer n'''\n",
    "    \n",
    "    output = [discretize_dgm(diag, m=m, M=M, res=res, expo=expo, filt=filt, sigma=sigma)\n",
    "             for diag in diags]\n",
    "    return np.mean(output, axis=0)\n"
   ]
  },
  {
   "cell_type": "code",
   "execution_count": 8,
   "metadata": {},
   "outputs": [],
   "source": [
    "def plot3d(X, X_noise):\n",
    "    from mpl_toolkits.mplot3d import Axes3D\n",
    "    fig = plt.figure()\n",
    "    ax = fig.add_subplot(111, projection='3d')\n",
    "    ax.scatter(X[:,0], X[:,1], X[:,2], marker='o', color='blue')\n",
    "    ax.scatter(X_noise[:,0], X_noise[:,1], X_noise[:,2], marker='x', color='red')\n",
    "\n",
    "def plot2d(X, X_noise):\n",
    "    fig = plt.figure()\n",
    "    ax = fig.add_subplot(111)\n",
    "    ax.scatter(X[:,0], X[:,1], marker='x', color='blue')\n",
    "    ax.scatter(X_noise[:,0], X_noise[:,1], marker='x', color='red')\n",
    "    ax.set_aspect(\"equal\")\n",
    "\n",
    "\n",
    "def plot_object(X, X_noise):\n",
    "    if X.ndim == 2:\n",
    "        plot2d(X, X_noise)\n",
    "    elif X.ndim == 3:\n",
    "        plot3d(X, X_noise)\n",
    "    else:\n",
    "        print(\"Unknown number of dimension. Input should be a 2D or a 3D point cloud.\")"
   ]
  },
  {
   "cell_type": "code",
   "execution_count": 9,
   "metadata": {},
   "outputs": [],
   "source": [
    "def plot_hist(h, ax=None):\n",
    "    if ax is None:\n",
    "        fig = plt.figure()\n",
    "        ax = fig.add_subplot(111)\n",
    "    ax.imshow(h, cmap='hot_r', interpolation='bilinear')\n",
    "    L = h.shape[0]\n",
    "    ax.set_xticks([])\n",
    "    ax.set_yticks([])\n",
    "    ax.set_xlabel(\"Births\", fontsize=18)\n",
    "    ax.set_ylabel(\"Deaths\", fontsize=18)\n",
    "    ax.add_patch(Polygon([[L,-1], [L,L], [-1,L]], fill=True, color='lightgrey'))\n",
    "    ax.set_title(\"Expected PD\", fontsize=24)\n",
    "\n",
    "def plot_dgm(dgm_true, dgm_tot, m, M, ax=None):\n",
    "    if ax is None:\n",
    "        fig = plt.figure()\n",
    "        ax = fig.add_subplot(111)\n",
    "    x, y = dgm_true[:,0], dgm_true[:,1]\n",
    "    ax.scatter(x, y, marker='o', color='blue', label='true dgm')\n",
    "    ax.scatter(dgm_tot[:,0], dgm_tot[:,1], marker='x', color='red', label='total dgm')\n",
    "    ax.set_xlim(m,M)\n",
    "    ax.set_ylim(m,M)\n",
    "    ax.add_patch(Polygon([[m, m], [M, m], [M, M]], fill=True, color='lightgrey'))\n",
    "    ax.set_aspect(\"equal\")\n",
    "    ax.set_xlabel(\"Births\", fontsize=18)\n",
    "    ax.set_ylabel(\"Deaths\", fontsize=18)\n",
    "\n",
    "    ax.legend()\n",
    "    ax.set_title(\"Diagrams\", fontsize=24)"
   ]
  },
  {
   "cell_type": "markdown",
   "metadata": {},
   "source": [
    "### Numerical illustration"
   ]
  },
  {
   "cell_type": "code",
   "execution_count": 10,
   "metadata": {},
   "outputs": [
    {
     "name": "stdout",
     "output_type": "stream",
     "text": [
      "Number of point on the shape: 9990\n",
      "Number of points corresponding to noise: 10\n",
      "Proportion of noise: 0.001\n",
      "Total number of points: 10000\n"
     ]
    }
   ],
   "source": [
    "nb_tot = 10000\n",
    "prop_noise = 0.001\n",
    "\n",
    "nb_points = int((1 - prop_noise) * nb_tot)\n",
    "nb_noise = nb_tot - nb_points\n",
    "\n",
    "print(\"Number of point on the shape:\", nb_points)\n",
    "print(\"Number of points corresponding to noise:\", nb_noise)\n",
    "print(\"Proportion of noise:\", prop_noise)\n",
    "print(\"Total number of points:\", nb_tot)"
   ]
  },
  {
   "cell_type": "code",
   "execution_count": 11,
   "metadata": {},
   "outputs": [],
   "source": [
    "# X = sample_torus(nb_points, r1 = 3, r2 = 1)\n",
    "X = sample_circle(nb_points)\n",
    "X_noise = sample_noise(nb_noise, \n",
    "                       ndim = X.shape[1], \n",
    "                       scale = np.std(X),\n",
    "                       type=\"uniform\")"
   ]
  },
  {
   "cell_type": "code",
   "execution_count": 12,
   "metadata": {},
   "outputs": [],
   "source": [
    "X_tot = add_noise(X_noise, X)"
   ]
  },
  {
   "cell_type": "code",
   "execution_count": 13,
   "metadata": {},
   "outputs": [
    {
     "data": {
      "image/png": "[encoded data removed]",
      "text/plain": [
       "<Figure size 432x288 with 1 Axes>"
      ]
     },
     "metadata": {
      "needs_background": "light"
     },
     "output_type": "display_data"
    }
   ],
   "source": [
    "plot_object(X, X_noise)"
   ]
  },
  {
   "cell_type": "code",
   "execution_count": 14,
   "metadata": {},
   "outputs": [],
   "source": [
    "dgm_tot = alphacomplex(X_tot)\n",
    "dgm_true = alphacomplex(X)"
   ]
  },
  {
   "cell_type": "code",
   "execution_count": 15,
   "metadata": {},
   "outputs": [],
   "source": [
    "nb_points_samples = 100\n",
    "nb_repeat = 100"
   ]
  },
  {
   "cell_type": "code",
   "execution_count": 16,
   "metadata": {},
   "outputs": [],
   "source": [
    "# Resolution parameters\n",
    "m=-0.1\n",
    "M=1.1"
   ]
  },
  {
   "cell_type": "code",
   "execution_count": 17,
   "metadata": {},
   "outputs": [],
   "source": [
    "diags = expected_dgm(X_tot, nb_points_samples, nb_repeat)\n",
    "h = tohist(diags, m=m, M=M)"
   ]
  },
  {
   "cell_type": "code",
   "execution_count": 18,
   "metadata": {},
   "outputs": [
    {
     "data": {
      "image/png": "[encoded data removed]",
      "text/plain": [
       "<Figure size 864x432 with 2 Axes>"
      ]
     },
     "metadata": {
      "needs_background": "light"
     },
     "output_type": "display_data"
    }
   ],
   "source": [
    "fig = plt.figure(figsize=(12,6))\n",
    "ax1 = fig.add_subplot(121)\n",
    "ax2 = fig.add_subplot(122)\n",
    "plot_dgm(dgm_true, dgm_tot, m = m, M=M, ax=ax1)\n",
    "plot_hist(h, ax=ax2)"
   ]
  },
  {
   "cell_type": "markdown",
   "metadata": {},
   "source": [
    "As one can see, the expected persistence diagram is much more similar to the true diagram !"
   ]
  }
 ],
 "metadata": {
  "kernelspec": {
   "display_name": "Python 3",
   "language": "python",
   "name": "python3"
  },
  "language_info": {
   "codemirror_mode": {
    "name": "ipython",
    "version": 3
   },
   "file_extension": ".py",
   "mimetype": "text/x-python",
   "name": "python",
   "nbconvert_exporter": "python",
   "pygments_lexer": "ipython3",
   "version": "3.8.3"
  }
 },
 "nbformat": 4,
 "nbformat_minor": 2
}
