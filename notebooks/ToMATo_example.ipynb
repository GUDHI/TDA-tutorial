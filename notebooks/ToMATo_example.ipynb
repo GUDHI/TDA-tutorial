{
 "cells": [
  {
   "cell_type": "markdown",
   "metadata": {},
   "source": [
    "# ToMATo Clustering Example\n",
    "\n",
    "This notebook demonstrates the use of the ToMATo clustering algorithm from the GUDHI library."
   ]
  },
  {
   "cell_type": "code",
   "execution_count": null,
   "metadata": {},
   "outputs": [],
   "source": [
    "import gudhi\n",
    "from gudhi.datasets.remote import fetch_spiral_2d\n",
    "import matplotlib.pyplot as plt\n",
    "\n",
    "# Fetch data\n",
    "data = fetch_spiral_2d()\n",
    "plt.scatter(data[:,0], data[:,1], marker='.', s=1)\n",
    "plt.title('Spiral 2D Data')\n",
    "plt.show()"
   ]
  },
  {
   "cell_type": "code",
   "execution_count": null,
   "metadata": {},
   "outputs": [],
   "source": [
    "from gudhi.clustering.tomato import Tomato\n",
    "\n",
    "# Initialize and fit ToMATo\n",
    "t = Tomato()\n",
    "t.fit(data)\n",
    "t.plot_diagram()"
   ]
  },
  {
   "cell_type": "code",
   "execution_count": null,
   "metadata": {},
   "outputs": [],
   "source": [
    "# Set number of clusters and plot\n",
    "t.n_clusters_ = 2\n",
    "plt.scatter(data[:,0], data[:,1], marker='.', s=1, c=t.labels_)\n",
    "plt.title('ToMATo Clustering')\n",
    "plt.show()"
   ]
  }
 ],
 "metadata": {
  "kernelspec": {
   "display_name": "Python 3",
   "language": "python",
   "name": "python3"
  },
  "language_info": {
   "codemirror_mode": {
    "name": "ipython",
    "version": 3
   },
   "file_extension": ".py",
   "mimetype": "text/x-python",
   "name": "python",
   "nbconvert_exporter": "python",
   "pygments_lexer": "ipython3",
   "version": "3.8.5"
  }
 },
 "nbformat": 4,
 "nbformat_minor": 5
}
