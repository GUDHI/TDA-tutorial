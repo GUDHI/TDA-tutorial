{
 "cells": [
  {
   "cell_type": "markdown",
   "metadata": {
    "collapsed": true
   },
   "source": [
    "# Topological Data Analysis with Python and the Gudhi Library \n",
    "\n",
    "# Introduction to simplex trees "
   ]
  },
  {
   "cell_type": "markdown",
   "metadata": {},
   "source": [
    "**Authors** : F. Chazal and B. Michel"
   ]
  },
  {
   "cell_type": "markdown",
   "metadata": {},
   "source": [
    "TDA typically aims at extracting topological signatures from a point cloud in $\\mathbb R^d$ or in a general metric space. By studying the topological of the point clouds, we actually mean studying the topology of unions of balls centered at the point cloud (offsets). However, non-discrete sets such as offsets, and also continuous mathematical shapes like curves, surfaces and more generally manifolds, cannot easily be encoded as finite discrete structures. [Simplicial complexes](https://en.wikipedia.org/wiki/Simplicial_complex) are therefore used in computational geometry to approximate such shapes.\n",
    "\n",
    "A simplicial complex is a set of [simplices](https://en.wikipedia.org/wiki/Simplex), they can be seen as higher dimensional generalization of graphs. They are mathematical objects that are both topological and combinatorial, a property making them particularly useful for TDA. Here is an exemple of simplicial complex :\n",
    "\n",
    "![title](Images/Pers14.PNG)\n",
    " \n",
    "A Filtration is a increasing sequence of sub-complexes of a simplicial complex $K$, it can be seen as ordering the simplices included in the complex. Indeed, simpicial complexes often come with a specific order, as for [Vietoris-Rips complexes](https://en.wikipedia.org/wiki/Vietoris%E2%80%93Rips_complex), [Cech complexes](https://en.wikipedia.org/wiki/%C4%8Cech_complex) and [alpha complexes](https://en.wikipedia.org/wiki/Alpha_shape#Alpha_complex). "
   ]
  },
  {
   "cell_type": "code",
   "execution_count": 1,
   "metadata": {},
   "outputs": [],
   "source": [
    "from IPython.display import Image\n",
    "from os import chdir\n",
    "import numpy as np\n",
    "import gudhi as gd\n",
    "import matplotlib.pyplot as plt"
   ]
  },
  {
   "cell_type": "markdown",
   "metadata": {},
   "source": [
    "In Gudhi, filtered simplicial complexes are encoded through a data structure called simplex tree. \n",
    "![CSexemple](http://gudhi.gforge.inria.fr/python/latest/_images/Simplex_tree_representation.png)\n",
    "\n",
    "This notebook illustrates the use of simplex tree to represent simplicial complexes from data points.\n",
    "\n",
    "See the [Python Gudhi documentation](http://gudhi.gforge.inria.fr/python/latest/simplex_tree_ref.html#) for more details on simplex trees."
   ]
  },
  {
   "cell_type": "markdown",
   "metadata": {},
   "source": [
    "### My first simplex tree"
   ]
  },
  {
   "cell_type": "markdown",
   "metadata": {},
   "source": [
    "Let's create our first simplicial complex, represented by a simplex tree :"
   ]
  },
  {
   "cell_type": "code",
   "execution_count": 2,
   "metadata": {},
   "outputs": [],
   "source": [
    "st = gd.SimplexTree()"
   ]
  },
  {
   "cell_type": "markdown",
   "metadata": {},
   "source": [
    "The `st` object has class `SimplexTree`. For now `st` is an empty simplex tree.\n",
    "\n",
    "The `SimplexTree` class has several usufull methods for the practice of TDA, for instance for defining new types of simplicial complexes from existing ones. \n",
    "\n",
    "The `insert()` method can be used to insert simplices in the simplex tree. In the simplex tree, vertices are represented by integers, an edge is represented by the list of its two integers corresponding to the vertices, a triangle by three integers etc. \n",
    "\n",
    "Now we insert three edges:"
   ]
  },
  {
   "cell_type": "code",
   "execution_count": 3,
   "metadata": {},
   "outputs": [
    {
     "data": {
      "text/plain": [
       "True"
      ]
     },
     "execution_count": 3,
     "metadata": {},
     "output_type": "execute_result"
    }
   ],
   "source": [
    "st.insert([0,1])\n",
    "st.insert([1,2])\n",
    "st.insert([3,1])"
   ]
  },
  {
   "cell_type": "markdown",
   "metadata": {},
   "source": [
    "If the simplex is already in the filtration then the `insert()` method outputs the boolean `False`."
   ]
  },
  {
   "cell_type": "code",
   "execution_count": 4,
   "metadata": {},
   "outputs": [
    {
     "data": {
      "text/plain": [
       "False"
      ]
     },
     "execution_count": 4,
     "metadata": {},
     "output_type": "execute_result"
    }
   ],
   "source": [
    "st.insert([3,1])"
   ]
  },
  {
   "cell_type": "markdown",
   "metadata": {},
   "source": [
    "We obtain the list of all the simplices in the simplex tree with the `get_filtration()` method : "
   ]
  },
  {
   "cell_type": "code",
   "execution_count": 5,
   "metadata": {},
   "outputs": [],
   "source": [
    "st_list = st.get_filtration() "
   ]
  },
  {
   "cell_type": "markdown",
   "metadata": {},
   "source": [
    "The output `st_list` is a list and we thus we can iterate on its elements. Each element in the list is a tuple that contains a simplex and its filtration value."
   ]
  },
  {
   "cell_type": "code",
   "execution_count": 6,
   "metadata": {},
   "outputs": [
    {
     "name": "stdout",
     "output_type": "stream",
     "text": [
      "([0], 0.0)\n",
      "([1], 0.0)\n",
      "([0, 1], 0.0)\n",
      "([2], 0.0)\n",
      "([1, 2], 0.0)\n",
      "([3], 0.0)\n",
      "([1, 3], 0.0)\n"
     ]
    }
   ],
   "source": [
    "for splx in st_list :\n",
    "    print(splx)"
   ]
  },
  {
   "cell_type": "markdown",
   "metadata": {},
   "source": [
    "Intuitively, the filtration value of a simplex in a filtered complex corresponds to \"when\" the simplex appears in the filtration. By default, with the `insert()` method the simplex has a filtration value equal to 0.\n",
    "\n",
    "Notice that inserting an edge automatically insert its vertices (if they were not already in the complex) in order to satisfy the inclusion property of a filtered complex: any simplex with filtration value $t$ has all its faces in the filtered complex, with filtration values smaller than $t$."
   ]
  },
  {
   "cell_type": "markdown",
   "metadata": {},
   "source": [
    "### Simplex tree description"
   ]
  },
  {
   "cell_type": "markdown",
   "metadata": {},
   "source": [
    "The dimension of the simplex tree is given by the `dimension()` method, it corresponds to the largest dimension of the simplices in the simplex tree:"
   ]
  },
  {
   "cell_type": "code",
   "execution_count": 7,
   "metadata": {},
   "outputs": [
    {
     "data": {
      "text/plain": [
       "1"
      ]
     },
     "execution_count": 7,
     "metadata": {},
     "output_type": "execute_result"
    }
   ],
   "source": [
    "st.dimension()"
   ]
  },
  {
   "cell_type": "markdown",
   "metadata": {},
   "source": [
    "It is possible to compute  the number of vertices in the simplex tree:"
   ]
  },
  {
   "cell_type": "code",
   "execution_count": 8,
   "metadata": {},
   "outputs": [
    {
     "data": {
      "text/plain": [
       "4"
      ]
     },
     "execution_count": 8,
     "metadata": {},
     "output_type": "execute_result"
    }
   ],
   "source": [
    "st.num_vertices()"
   ]
  },
  {
   "cell_type": "markdown",
   "metadata": {},
   "source": [
    "The number of simplices in the simplex tree is given by"
   ]
  },
  {
   "cell_type": "code",
   "execution_count": 9,
   "metadata": {},
   "outputs": [
    {
     "data": {
      "text/plain": [
       "7"
      ]
     },
     "execution_count": 9,
     "metadata": {},
     "output_type": "execute_result"
    }
   ],
   "source": [
    "st.num_simplices()"
   ]
  },
  {
   "cell_type": "markdown",
   "metadata": {},
   "source": [
    "The [d-skeleton](https://en.wikipedia.org/wiki/N-skeleton) for every dimension $d$ can be also computed with the `get_skeleton_tree()` method:"
   ]
  },
  {
   "cell_type": "code",
   "execution_count": 10,
   "metadata": {
    "scrolled": true
   },
   "outputs": [
    {
     "name": "stdout",
     "output_type": "stream",
     "text": [
      "<generator object at 0x7f46e8bf7558>\n"
     ]
    }
   ],
   "source": [
    "print(st.get_skeleton(1))"
   ]
  },
  {
   "cell_type": "markdown",
   "metadata": {},
   "source": [
    "One can also test if a simplex is already in the filtration with the `find()` method:"
   ]
  },
  {
   "cell_type": "code",
   "execution_count": 11,
   "metadata": {},
   "outputs": [
    {
     "data": {
      "text/plain": [
       "False"
      ]
     },
     "execution_count": 11,
     "metadata": {},
     "output_type": "execute_result"
    }
   ],
   "source": [
    "st.find([2, 4])"
   ]
  },
  {
   "cell_type": "markdown",
   "metadata": {},
   "source": [
    "### Filtration values\n",
    "\n",
    "We can insert simplices for a given filtration value. Below we insert in the simplex tree three triangles at three different filtrations values:"
   ]
  },
  {
   "cell_type": "code",
   "execution_count": 12,
   "metadata": {},
   "outputs": [
    {
     "name": "stdout",
     "output_type": "stream",
     "text": [
      "([0], 0.0)\n",
      "([1], 0.0)\n",
      "([0, 1], 0.0)\n",
      "([2], 0.0)\n",
      "([1, 2], 0.0)\n",
      "([3], 0.0)\n",
      "([1, 3], 0.0)\n",
      "([0, 2], 0.1)\n",
      "([0, 1, 2], 0.1)\n",
      "([2, 3], 0.2)\n",
      "([1, 2, 3], 0.2)\n",
      "([0, 3], 0.4)\n",
      "([0, 1, 3], 0.4)\n"
     ]
    }
   ],
   "source": [
    "st.insert([0,1,2],filtration=0.1)\n",
    "st.insert([1,2,3],filtration=0.2)\n",
    "st.insert([0,1,3],filtration=0.4)\n",
    "st_list  = st.get_filtration() \n",
    "\n",
    "for splx in st_list :\n",
    "    print(splx)"
   ]
  },
  {
   "cell_type": "markdown",
   "metadata": {},
   "source": [
    "If we add a new simplex with a given filtration values, all its faces that were not in the complex before are added with the same filtration value : here the edge [0, 3] has been also inserted and it takes the filtration value 0.4."
   ]
  },
  {
   "cell_type": "markdown",
   "metadata": {},
   "source": [
    "The `assign_filtration()` method can be used to assign a filtration value to a simplex that is \n",
    "already in the filtration."
   ]
  },
  {
   "cell_type": "code",
   "execution_count": 13,
   "metadata": {},
   "outputs": [
    {
     "name": "stdout",
     "output_type": "stream",
     "text": [
      "([0], 0.0)\n",
      "([1], 0.0)\n",
      "([0, 1], 0.0)\n",
      "([2], 0.0)\n",
      "([1, 2], 0.0)\n",
      "([1, 3], 0.0)\n",
      "([0, 2], 0.1)\n",
      "([0, 1, 2], 0.1)\n",
      "([2, 3], 0.2)\n",
      "([1, 2, 3], 0.2)\n",
      "([0, 3], 0.4)\n",
      "([0, 1, 3], 0.4)\n",
      "([3], 0.8)\n"
     ]
    }
   ],
   "source": [
    "st.assign_filtration([3],filtration=0.8)\n",
    "st_list = st.get_filtration()\n",
    "for splx in st_list:\n",
    "    print(splx)   "
   ]
  },
  {
   "cell_type": "markdown",
   "metadata": {},
   "source": [
    "However this simplex tree is not a filtered simplicial complex anymore because the filtration value of the vertex [3] is higher then the filtration value of the edge [2 3]. We can use the `make_filtration_non_decreasing()` method to solve the problem:"
   ]
  },
  {
   "cell_type": "code",
   "execution_count": 14,
   "metadata": {},
   "outputs": [
    {
     "name": "stdout",
     "output_type": "stream",
     "text": [
      "([0], 0.0)\n",
      "([1], 0.0)\n",
      "([0, 1], 0.0)\n",
      "([2], 0.0)\n",
      "([1, 2], 0.0)\n",
      "([0, 2], 0.1)\n",
      "([0, 1, 2], 0.1)\n",
      "([3], 0.8)\n",
      "([0, 3], 0.8)\n",
      "([1, 3], 0.8)\n",
      "([0, 1, 3], 0.8)\n",
      "([2, 3], 0.8)\n",
      "([1, 2, 3], 0.8)\n"
     ]
    }
   ],
   "source": [
    "st.make_filtration_non_decreasing()\n",
    "st_list = st.get_filtration()\n",
    "for splx in st_list:\n",
    "    print(splx)  "
   ]
  },
  {
   "cell_type": "markdown",
   "metadata": {},
   "source": [
    "The `filtration()` function  returns the filtration level of a given simplex in the filtration :"
   ]
  },
  {
   "cell_type": "code",
   "execution_count": 15,
   "metadata": {},
   "outputs": [
    {
     "data": {
      "text/plain": [
       "0.8"
      ]
     },
     "execution_count": 15,
     "metadata": {},
     "output_type": "execute_result"
    }
   ],
   "source": [
    "st.filtration([2,3])"
   ]
  }
 ],
 "metadata": {
  "anaconda-cloud": {},
  "kernelspec": {
   "display_name": "Python 3",
   "language": "python",
   "name": "python3"
  },
  "language_info": {
   "codemirror_mode": {
    "name": "ipython",
    "version": 3
   },
   "file_extension": ".py",
   "mimetype": "text/x-python",
   "name": "python",
   "nbconvert_exporter": "python",
   "pygments_lexer": "ipython3",
   "version": "3.6.10"
  },
  "toc": {
   "base_numbering": 1,
   "nav_menu": {},
   "number_sections": true,
   "sideBar": true,
   "skip_h1_title": false,
   "title_cell": "Table of Contents",
   "title_sidebar": "Contents",
   "toc_cell": false,
   "toc_position": {},
   "toc_section_display": true,
   "toc_window_display": false
  }
 },
 "nbformat": 4,
 "nbformat_minor": 1
}
