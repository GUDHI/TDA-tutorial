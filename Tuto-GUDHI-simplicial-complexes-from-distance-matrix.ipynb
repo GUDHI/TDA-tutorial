{
 "cells": [
  {
   "cell_type": "markdown",
   "metadata": {},
   "source": [
    "# TDA with Python using the Gudhi Library \n",
    "\n",
    "# Building simplicial complexes from distance matrices ([download](https://gudhi.github.io/TDA-tutorial/Tuto-GUDHI-simplicial-complexes-from-distance-matrix.ipynb.zip))"
   ]
  },
  {
   "cell_type": "markdown",
   "metadata": {},
   "source": [
    "**Authors :** F. Chazal and B. Michel"
   ]
  },
  {
   "cell_type": "code",
   "execution_count": 1,
   "metadata": {},
   "outputs": [],
   "source": [
    "import numpy as np\n",
    "import pandas as pd\n",
    "import pickle as pickle\n",
    "import gudhi as gd  \n",
    "from pylab import *\n",
    "%matplotlib inline"
   ]
  },
  {
   "cell_type": "markdown",
   "metadata": {},
   "source": [
    "TDA typically aims at extracting topological signatures from a point cloud in $\\mathbb R^d$ or in a general metric space. [Simplicial complexes](https://en.wikipedia.org/wiki/Simplicial_complex) are used in computational geometry to infer topological signatures from data.\n",
    "\n",
    "This tutorial explains how to build [Vietoris-Rips complexes](https://en.wikipedia.org/wiki/Vietoris%E2%80%93Rips_complex)  and [alpha complexes](https://en.wikipedia.org/wiki/Alpha_shape#Alpha_complex) from a matrix of pairwise distances.\n",
    "\n",
    "\n",
    "\n",
    "### Vietoris-Rips filtration defined from a matrix of distances \n",
    "\n",
    "The [$\\alpha$-Rips complex](https://en.wikipedia.org/wiki/Vietoris%E2%80%93Rips_complex) of a metric space $\\mathbb X$ is an [abstract simplicial complex](https://en.wikipedia.org/wiki/Abstract_simplicial_complex) that can be defined  by forming a simplex for every finite subset of $\\mathbb X$ that has diameter at most $\\alpha$.  \n",
    "\n",
    "![title](https://upload.wikimedia.org/wikipedia/commons/thumb/d/d0/VR_complex.svg/600px-VR_complex.svg.png)\n",
    "\n",
    " \n",
    "\n",
    "\n",
    "### Protein binding dataset\n",
    "\n",
    "The data we study in this notebook represent configurations of protein binding. This example is borrowed from the paper a paper of  Kovacev-Nikolic et.al [1](https://arxiv.org/pdf/1412.1394.pdf).\n",
    "\n",
    "The paper compares closed and open forms of the maltose-binding protein (MBP), a large biomolecule consisting of 370 amino acid residues. The analysis is not based on geometric distances in $\\mathbb R^3$ but on a metric of *dynamical distances* defined by\n",
    "$$D_{ij} = 1 - |C_{ij}|,$$\n",
    "where $C$ is the correlation matrix between residues.\n",
    "\n",
    "Correlation matrices between residues can be found at this [link](https://www.researchgate.net/publication/301543862_corr), we are greatful to the authors for sharing data !"
   ]
  },
  {
   "cell_type": "markdown",
   "metadata": {},
   "source": [
    "The next statments load the fourteen correlation matrices with pandas:"
   ]
  },
  {
   "cell_type": "code",
   "execution_count": 2,
   "metadata": {},
   "outputs": [
    {
     "data": {
      "text/plain": [
       "14"
      ]
     },
     "execution_count": 2,
     "metadata": {},
     "output_type": "execute_result"
    }
   ],
   "source": [
    "path_file = \"./datasets/Corr_ProteinBinding/\"\n",
    "files_list = [\n",
    "'1anf.corr_1.txt',\n",
    "'1ez9.corr_1.txt',\n",
    "'1fqa.corr_2.txt',\n",
    "'1fqb.corr_3.txt',\n",
    "'1fqc.corr_2.txt',\n",
    "'1fqd.corr_3.txt',\n",
    "'1jw4.corr_4.txt',\n",
    "'1jw5.corr_5.txt',\n",
    "'1lls.corr_6.txt',\n",
    "'1mpd.corr_4.txt',\n",
    "'1omp.corr_7.txt',\n",
    "'3hpi.corr_5.txt',\n",
    "'3mbp.corr_6.txt',\n",
    "'4mbp.corr_7.txt']\n",
    "len(files_list)"
   ]
  },
  {
   "cell_type": "code",
   "execution_count": 3,
   "metadata": {},
   "outputs": [],
   "source": [
    "corr_list = [pd.read_csv(path_file+u,\n",
    "                         header=None,\n",
    "                         delim_whitespace=True) for u in files_list]"
   ]
  },
  {
   "cell_type": "markdown",
   "metadata": {},
   "source": [
    "The object  <code>corr_list</code> is the list of the 14 correlation matrices.    \n",
    "We can iterate in the list to compute the matrix of distances associated to each configuration:"
   ]
  },
  {
   "cell_type": "code",
   "execution_count": 4,
   "metadata": {},
   "outputs": [],
   "source": [
    "dist_list = [1- np.abs(c) for c in corr_list]"
   ]
  },
  {
   "cell_type": "markdown",
   "metadata": {},
   "source": [
    "Let's print the first lines of the first distance matrix:"
   ]
  },
  {
   "cell_type": "code",
   "execution_count": 5,
   "metadata": {},
   "outputs": [
    {
     "data": {
      "text/html": [
       "<div>\n",
       "<style scoped>\n",
       "    .dataframe tbody tr th:only-of-type {\n",
       "        vertical-align: middle;\n",
       "    }\n",
       "\n",
       "    .dataframe tbody tr th {\n",
       "        vertical-align: top;\n",
       "    }\n",
       "\n",
       "    .dataframe thead th {\n",
       "        text-align: right;\n",
       "    }\n",
       "</style>\n",
       "<table border=\"1\" class=\"dataframe\">\n",
       "  <thead>\n",
       "    <tr style=\"text-align: right;\">\n",
       "      <th></th>\n",
       "      <th>0</th>\n",
       "      <th>1</th>\n",
       "      <th>2</th>\n",
       "      <th>3</th>\n",
       "      <th>4</th>\n",
       "      <th>5</th>\n",
       "      <th>6</th>\n",
       "      <th>7</th>\n",
       "      <th>8</th>\n",
       "      <th>9</th>\n",
       "      <th>...</th>\n",
       "      <th>360</th>\n",
       "      <th>361</th>\n",
       "      <th>362</th>\n",
       "      <th>363</th>\n",
       "      <th>364</th>\n",
       "      <th>365</th>\n",
       "      <th>366</th>\n",
       "      <th>367</th>\n",
       "      <th>368</th>\n",
       "      <th>369</th>\n",
       "    </tr>\n",
       "  </thead>\n",
       "  <tbody>\n",
       "    <tr>\n",
       "      <th>0</th>\n",
       "      <td>0.000000</td>\n",
       "      <td>0.076200</td>\n",
       "      <td>0.171364</td>\n",
       "      <td>0.378207</td>\n",
       "      <td>0.461747</td>\n",
       "      <td>0.493499</td>\n",
       "      <td>0.478665</td>\n",
       "      <td>0.432338</td>\n",
       "      <td>0.568455</td>\n",
       "      <td>0.639504</td>\n",
       "      <td>...</td>\n",
       "      <td>0.694159</td>\n",
       "      <td>0.723059</td>\n",
       "      <td>0.660802</td>\n",
       "      <td>0.614051</td>\n",
       "      <td>0.660601</td>\n",
       "      <td>0.686334</td>\n",
       "      <td>0.640850</td>\n",
       "      <td>0.617944</td>\n",
       "      <td>0.695108</td>\n",
       "      <td>0.748451</td>\n",
       "    </tr>\n",
       "    <tr>\n",
       "      <th>1</th>\n",
       "      <td>0.076200</td>\n",
       "      <td>0.000000</td>\n",
       "      <td>0.122763</td>\n",
       "      <td>0.233837</td>\n",
       "      <td>0.350744</td>\n",
       "      <td>0.406213</td>\n",
       "      <td>0.425202</td>\n",
       "      <td>0.381799</td>\n",
       "      <td>0.541636</td>\n",
       "      <td>0.646580</td>\n",
       "      <td>...</td>\n",
       "      <td>0.817461</td>\n",
       "      <td>0.844610</td>\n",
       "      <td>0.781266</td>\n",
       "      <td>0.740222</td>\n",
       "      <td>0.793586</td>\n",
       "      <td>0.808770</td>\n",
       "      <td>0.754748</td>\n",
       "      <td>0.730646</td>\n",
       "      <td>0.804961</td>\n",
       "      <td>0.848953</td>\n",
       "    </tr>\n",
       "    <tr>\n",
       "      <th>2</th>\n",
       "      <td>0.171364</td>\n",
       "      <td>0.122763</td>\n",
       "      <td>0.000000</td>\n",
       "      <td>0.084642</td>\n",
       "      <td>0.131528</td>\n",
       "      <td>0.148980</td>\n",
       "      <td>0.162259</td>\n",
       "      <td>0.164105</td>\n",
       "      <td>0.333175</td>\n",
       "      <td>0.480605</td>\n",
       "      <td>...</td>\n",
       "      <td>0.782234</td>\n",
       "      <td>0.813481</td>\n",
       "      <td>0.718610</td>\n",
       "      <td>0.666239</td>\n",
       "      <td>0.742311</td>\n",
       "      <td>0.740322</td>\n",
       "      <td>0.667525</td>\n",
       "      <td>0.653546</td>\n",
       "      <td>0.742430</td>\n",
       "      <td>0.766030</td>\n",
       "    </tr>\n",
       "    <tr>\n",
       "      <th>3</th>\n",
       "      <td>0.378207</td>\n",
       "      <td>0.233837</td>\n",
       "      <td>0.084642</td>\n",
       "      <td>0.000000</td>\n",
       "      <td>0.045478</td>\n",
       "      <td>0.132107</td>\n",
       "      <td>0.217299</td>\n",
       "      <td>0.293902</td>\n",
       "      <td>0.494307</td>\n",
       "      <td>0.675635</td>\n",
       "      <td>...</td>\n",
       "      <td>0.913930</td>\n",
       "      <td>0.929677</td>\n",
       "      <td>0.853475</td>\n",
       "      <td>0.813717</td>\n",
       "      <td>0.868041</td>\n",
       "      <td>0.856491</td>\n",
       "      <td>0.797437</td>\n",
       "      <td>0.781044</td>\n",
       "      <td>0.842591</td>\n",
       "      <td>0.858435</td>\n",
       "    </tr>\n",
       "    <tr>\n",
       "      <th>4</th>\n",
       "      <td>0.461747</td>\n",
       "      <td>0.350744</td>\n",
       "      <td>0.131528</td>\n",
       "      <td>0.045478</td>\n",
       "      <td>0.000000</td>\n",
       "      <td>0.059280</td>\n",
       "      <td>0.146850</td>\n",
       "      <td>0.297257</td>\n",
       "      <td>0.511751</td>\n",
       "      <td>0.734412</td>\n",
       "      <td>...</td>\n",
       "      <td>0.967195</td>\n",
       "      <td>0.979578</td>\n",
       "      <td>0.889375</td>\n",
       "      <td>0.841519</td>\n",
       "      <td>0.895967</td>\n",
       "      <td>0.874522</td>\n",
       "      <td>0.804538</td>\n",
       "      <td>0.779865</td>\n",
       "      <td>0.841695</td>\n",
       "      <td>0.849836</td>\n",
       "    </tr>\n",
       "  </tbody>\n",
       "</table>\n",
       "<p>5 rows × 370 columns</p>\n",
       "</div>"
      ],
      "text/plain": [
       "        0         1         2         3         4         5         6    \\\n",
       "0  0.000000  0.076200  0.171364  0.378207  0.461747  0.493499  0.478665   \n",
       "1  0.076200  0.000000  0.122763  0.233837  0.350744  0.406213  0.425202   \n",
       "2  0.171364  0.122763  0.000000  0.084642  0.131528  0.148980  0.162259   \n",
       "3  0.378207  0.233837  0.084642  0.000000  0.045478  0.132107  0.217299   \n",
       "4  0.461747  0.350744  0.131528  0.045478  0.000000  0.059280  0.146850   \n",
       "\n",
       "        7         8         9      ...          360       361       362  \\\n",
       "0  0.432338  0.568455  0.639504    ...     0.694159  0.723059  0.660802   \n",
       "1  0.381799  0.541636  0.646580    ...     0.817461  0.844610  0.781266   \n",
       "2  0.164105  0.333175  0.480605    ...     0.782234  0.813481  0.718610   \n",
       "3  0.293902  0.494307  0.675635    ...     0.913930  0.929677  0.853475   \n",
       "4  0.297257  0.511751  0.734412    ...     0.967195  0.979578  0.889375   \n",
       "\n",
       "        363       364       365       366       367       368       369  \n",
       "0  0.614051  0.660601  0.686334  0.640850  0.617944  0.695108  0.748451  \n",
       "1  0.740222  0.793586  0.808770  0.754748  0.730646  0.804961  0.848953  \n",
       "2  0.666239  0.742311  0.740322  0.667525  0.653546  0.742430  0.766030  \n",
       "3  0.813717  0.868041  0.856491  0.797437  0.781044  0.842591  0.858435  \n",
       "4  0.841519  0.895967  0.874522  0.804538  0.779865  0.841695  0.849836  \n",
       "\n",
       "[5 rows x 370 columns]"
      ]
     },
     "execution_count": 5,
     "metadata": {},
     "output_type": "execute_result"
    }
   ],
   "source": [
    "mat_dist0 = dist_list[0]\n",
    "mat_dist0.head()"
   ]
  },
  {
   "cell_type": "markdown",
   "metadata": {},
   "source": [
    "### Vietoris-Rips filtration of Protein binding distance matrix"
   ]
  },
  {
   "cell_type": "markdown",
   "metadata": {},
   "source": [
    "The <code>RipsComplex()</code> function creates a [one skeleton](https://en.wikipedia.org/wiki/N-skeleton) graph from the point cloud, see the [Documentation](https://gudhi.inria.fr/python/latest/rips_complex_user.html) for details on the syntax."
   ]
  },
  {
   "cell_type": "code",
   "execution_count": 6,
   "metadata": {},
   "outputs": [],
   "source": [
    "skeleton_protein = gd.RipsComplex(distance_matrix=mat_dist0.values,\n",
    "                                  max_edge_length=0.8) "
   ]
  },
  {
   "cell_type": "markdown",
   "metadata": {},
   "source": [
    "The `max_edge_length` parameter is the maximal diameter: only the edges of length less vers this value are included in the one skeleton graph. \n",
    "\n",
    "Next, we create the Rips simplicial complex from this one-skeleton graph. This is a filtered Rips complex which filtration function is exacly the diameter of the simplices. We use the `create_simplex_tree()` function:"
   ]
  },
  {
   "cell_type": "code",
   "execution_count": 7,
   "metadata": {},
   "outputs": [],
   "source": [
    "Rips_simplex_tree_protein = skeleton_protein.create_simplex_tree(max_dimension=2)"
   ]
  },
  {
   "cell_type": "markdown",
   "metadata": {},
   "source": [
    "The `max_dimension` parameter is the maximum dimension of the simplices included in the the filtration. The object returned by the function is a simplex tree, of dimension 2 in this example:"
   ]
  },
  {
   "cell_type": "code",
   "execution_count": 8,
   "metadata": {},
   "outputs": [
    {
     "data": {
      "text/plain": [
       "2"
      ]
     },
     "execution_count": 8,
     "metadata": {},
     "output_type": "execute_result"
    }
   ],
   "source": [
    "Rips_simplex_tree_protein.dimension()"
   ]
  },
  {
   "cell_type": "markdown",
   "metadata": {},
   "source": [
    "We can use the fonctionalites of the simplex tree object to describe the Rips filtration.\n",
    "For instance we can check that the 370 points of the first distance matrix are all vertices of the Vietoris-Rips filtration:"
   ]
  },
  {
   "cell_type": "code",
   "execution_count": 9,
   "metadata": {},
   "outputs": [
    {
     "name": "stdout",
     "output_type": "stream",
     "text": [
      "370\n"
     ]
    }
   ],
   "source": [
    "print(Rips_simplex_tree_protein.num_vertices())"
   ]
  },
  {
   "cell_type": "markdown",
   "metadata": {},
   "source": [
    "The number of simplices in a Rips complex increases very fast with the number of points and the dimension. There is more than on million of simplexes in the Rips complex:"
   ]
  },
  {
   "cell_type": "code",
   "execution_count": 10,
   "metadata": {},
   "outputs": [
    {
     "name": "stdout",
     "output_type": "stream",
     "text": [
      "1626660\n"
     ]
    }
   ],
   "source": [
    "print(Rips_simplex_tree_protein.num_simplices())"
   ]
  },
  {
   "cell_type": "markdown",
   "metadata": {},
   "source": [
    "Note that this is actually the number of simplices in the \"last\" Rips complex of the filtration, namely with parameter $\\alpha=$ `max_edge_length=`0.8. "
   ]
  },
  {
   "cell_type": "markdown",
   "metadata": {},
   "source": [
    "Let's compute the list of simplices in the Rips complex with the `get_filtration()` function:\n"
   ]
  },
  {
   "cell_type": "code",
   "execution_count": 11,
   "metadata": {},
   "outputs": [
    {
     "name": "stdout",
     "output_type": "stream",
     "text": [
      "1626660\n"
     ]
    }
   ],
   "source": [
    "filt_Rips_protein = Rips_simplex_tree_protein.get_filtration() \n",
    "print(len(filt_Rips_protein))"
   ]
  },
  {
   "cell_type": "code",
   "execution_count": 12,
   "metadata": {},
   "outputs": [
    {
     "name": "stdout",
     "output_type": "stream",
     "text": [
      "([0], 0.0)\n",
      "([1], 0.0)\n",
      "([2], 0.0)\n",
      "([3], 0.0)\n",
      "([4], 0.0)\n",
      "([5], 0.0)\n",
      "([6], 0.0)\n",
      "([7], 0.0)\n",
      "([8], 0.0)\n",
      "([9], 0.0)\n",
      "([10], 0.0)\n",
      "([11], 0.0)\n",
      "([12], 0.0)\n",
      "([13], 0.0)\n",
      "([14], 0.0)\n",
      "([15], 0.0)\n",
      "([16], 0.0)\n",
      "([17], 0.0)\n",
      "([18], 0.0)\n",
      "([19], 0.0)\n",
      "([20], 0.0)\n",
      "([21], 0.0)\n",
      "([22], 0.0)\n",
      "([23], 0.0)\n",
      "([24], 0.0)\n",
      "([25], 0.0)\n",
      "([26], 0.0)\n",
      "([27], 0.0)\n",
      "([28], 0.0)\n",
      "([29], 0.0)\n",
      "([30], 0.0)\n",
      "([31], 0.0)\n",
      "([32], 0.0)\n",
      "([33], 0.0)\n",
      "([34], 0.0)\n",
      "([35], 0.0)\n",
      "([36], 0.0)\n",
      "([37], 0.0)\n",
      "([38], 0.0)\n",
      "([39], 0.0)\n",
      "([40], 0.0)\n",
      "([41], 0.0)\n",
      "([42], 0.0)\n",
      "([43], 0.0)\n",
      "([44], 0.0)\n",
      "([45], 0.0)\n",
      "([46], 0.0)\n",
      "([47], 0.0)\n",
      "([48], 0.0)\n",
      "([49], 0.0)\n",
      "([50], 0.0)\n",
      "([51], 0.0)\n",
      "([52], 0.0)\n",
      "([53], 0.0)\n",
      "([54], 0.0)\n",
      "([55], 0.0)\n",
      "([56], 0.0)\n",
      "([57], 0.0)\n",
      "([58], 0.0)\n",
      "([59], 0.0)\n",
      "([60], 0.0)\n",
      "([61], 0.0)\n",
      "([62], 0.0)\n",
      "([63], 0.0)\n",
      "([64], 0.0)\n",
      "([65], 0.0)\n",
      "([66], 0.0)\n",
      "([67], 0.0)\n",
      "([68], 0.0)\n",
      "([69], 0.0)\n",
      "([70], 0.0)\n",
      "([71], 0.0)\n",
      "([72], 0.0)\n",
      "([73], 0.0)\n",
      "([74], 0.0)\n",
      "([75], 0.0)\n",
      "([76], 0.0)\n",
      "([77], 0.0)\n",
      "([78], 0.0)\n",
      "([79], 0.0)\n",
      "([80], 0.0)\n",
      "([81], 0.0)\n",
      "([82], 0.0)\n",
      "([83], 0.0)\n",
      "([84], 0.0)\n",
      "([85], 0.0)\n",
      "([86], 0.0)\n",
      "([87], 0.0)\n",
      "([88], 0.0)\n",
      "([89], 0.0)\n",
      "([90], 0.0)\n",
      "([91], 0.0)\n",
      "([92], 0.0)\n",
      "([93], 0.0)\n",
      "([94], 0.0)\n",
      "([95], 0.0)\n",
      "([96], 0.0)\n",
      "([97], 0.0)\n",
      "([98], 0.0)\n",
      "([99], 0.0)\n",
      "([100], 0.0)\n",
      "([101], 0.0)\n",
      "([102], 0.0)\n",
      "([103], 0.0)\n",
      "([104], 0.0)\n",
      "([105], 0.0)\n",
      "([106], 0.0)\n",
      "([107], 0.0)\n",
      "([108], 0.0)\n",
      "([109], 0.0)\n",
      "([110], 0.0)\n",
      "([111], 0.0)\n",
      "([112], 0.0)\n",
      "([113], 0.0)\n",
      "([114], 0.0)\n",
      "([115], 0.0)\n",
      "([116], 0.0)\n",
      "([117], 0.0)\n",
      "([118], 0.0)\n",
      "([119], 0.0)\n",
      "([120], 0.0)\n",
      "([121], 0.0)\n",
      "([122], 0.0)\n",
      "([123], 0.0)\n",
      "([124], 0.0)\n",
      "([125], 0.0)\n",
      "([126], 0.0)\n",
      "([127], 0.0)\n",
      "([128], 0.0)\n",
      "([129], 0.0)\n",
      "([130], 0.0)\n",
      "([131], 0.0)\n",
      "([132], 0.0)\n",
      "([133], 0.0)\n",
      "([134], 0.0)\n",
      "([135], 0.0)\n",
      "([136], 0.0)\n",
      "([137], 0.0)\n",
      "([138], 0.0)\n",
      "([139], 0.0)\n",
      "([140], 0.0)\n",
      "([141], 0.0)\n",
      "([142], 0.0)\n",
      "([143], 0.0)\n",
      "([144], 0.0)\n",
      "([145], 0.0)\n",
      "([146], 0.0)\n",
      "([147], 0.0)\n",
      "([148], 0.0)\n",
      "([149], 0.0)\n",
      "([150], 0.0)\n",
      "([151], 0.0)\n",
      "([152], 0.0)\n",
      "([153], 0.0)\n",
      "([154], 0.0)\n",
      "([155], 0.0)\n",
      "([156], 0.0)\n",
      "([157], 0.0)\n",
      "([158], 0.0)\n",
      "([159], 0.0)\n",
      "([160], 0.0)\n",
      "([161], 0.0)\n",
      "([162], 0.0)\n",
      "([163], 0.0)\n",
      "([164], 0.0)\n",
      "([165], 0.0)\n",
      "([166], 0.0)\n",
      "([167], 0.0)\n",
      "([168], 0.0)\n",
      "([169], 0.0)\n",
      "([170], 0.0)\n",
      "([171], 0.0)\n",
      "([172], 0.0)\n",
      "([173], 0.0)\n",
      "([174], 0.0)\n",
      "([175], 0.0)\n",
      "([176], 0.0)\n",
      "([177], 0.0)\n",
      "([178], 0.0)\n",
      "([179], 0.0)\n",
      "([180], 0.0)\n",
      "([181], 0.0)\n",
      "([182], 0.0)\n",
      "([183], 0.0)\n",
      "([184], 0.0)\n",
      "([185], 0.0)\n",
      "([186], 0.0)\n",
      "([187], 0.0)\n",
      "([188], 0.0)\n",
      "([189], 0.0)\n",
      "([190], 0.0)\n",
      "([191], 0.0)\n",
      "([192], 0.0)\n",
      "([193], 0.0)\n",
      "([194], 0.0)\n",
      "([195], 0.0)\n",
      "([196], 0.0)\n",
      "([197], 0.0)\n",
      "([198], 0.0)\n",
      "([199], 0.0)\n",
      "([200], 0.0)\n",
      "([201], 0.0)\n",
      "([202], 0.0)\n",
      "([203], 0.0)\n",
      "([204], 0.0)\n",
      "([205], 0.0)\n",
      "([206], 0.0)\n",
      "([207], 0.0)\n",
      "([208], 0.0)\n",
      "([209], 0.0)\n",
      "([210], 0.0)\n",
      "([211], 0.0)\n",
      "([212], 0.0)\n",
      "([213], 0.0)\n",
      "([214], 0.0)\n",
      "([215], 0.0)\n",
      "([216], 0.0)\n",
      "([217], 0.0)\n",
      "([218], 0.0)\n",
      "([219], 0.0)\n",
      "([220], 0.0)\n",
      "([221], 0.0)\n",
      "([222], 0.0)\n",
      "([223], 0.0)\n",
      "([224], 0.0)\n",
      "([225], 0.0)\n",
      "([226], 0.0)\n",
      "([227], 0.0)\n",
      "([228], 0.0)\n",
      "([229], 0.0)\n",
      "([230], 0.0)\n",
      "([231], 0.0)\n",
      "([232], 0.0)\n",
      "([233], 0.0)\n",
      "([234], 0.0)\n",
      "([235], 0.0)\n",
      "([236], 0.0)\n",
      "([237], 0.0)\n",
      "([238], 0.0)\n",
      "([239], 0.0)\n",
      "([240], 0.0)\n",
      "([241], 0.0)\n",
      "([242], 0.0)\n",
      "([243], 0.0)\n",
      "([244], 0.0)\n",
      "([245], 0.0)\n",
      "([246], 0.0)\n",
      "([247], 0.0)\n",
      "([248], 0.0)\n",
      "([249], 0.0)\n",
      "([250], 0.0)\n",
      "([251], 0.0)\n",
      "([252], 0.0)\n",
      "([253], 0.0)\n",
      "([254], 0.0)\n",
      "([255], 0.0)\n",
      "([256], 0.0)\n",
      "([257], 0.0)\n",
      "([258], 0.0)\n",
      "([259], 0.0)\n",
      "([260], 0.0)\n",
      "([261], 0.0)\n",
      "([262], 0.0)\n",
      "([263], 0.0)\n",
      "([264], 0.0)\n",
      "([265], 0.0)\n",
      "([266], 0.0)\n",
      "([267], 0.0)\n",
      "([268], 0.0)\n",
      "([269], 0.0)\n",
      "([270], 0.0)\n",
      "([271], 0.0)\n",
      "([272], 0.0)\n",
      "([273], 0.0)\n",
      "([274], 0.0)\n",
      "([275], 0.0)\n",
      "([276], 0.0)\n",
      "([277], 0.0)\n",
      "([278], 0.0)\n",
      "([279], 0.0)\n",
      "([280], 0.0)\n",
      "([281], 0.0)\n",
      "([282], 0.0)\n",
      "([283], 0.0)\n",
      "([284], 0.0)\n",
      "([285], 0.0)\n",
      "([286], 0.0)\n",
      "([287], 0.0)\n",
      "([288], 0.0)\n",
      "([289], 0.0)\n",
      "([290], 0.0)\n",
      "([291], 0.0)\n",
      "([292], 0.0)\n",
      "([293], 0.0)\n",
      "([294], 0.0)\n",
      "([295], 0.0)\n",
      "([296], 0.0)\n",
      "([297], 0.0)\n",
      "([298], 0.0)\n",
      "([299], 0.0)\n",
      "([300], 0.0)\n",
      "([301], 0.0)\n",
      "([302], 0.0)\n",
      "([303], 0.0)\n",
      "([304], 0.0)\n",
      "([305], 0.0)\n",
      "([306], 0.0)\n",
      "([307], 0.0)\n",
      "([308], 0.0)\n",
      "([309], 0.0)\n",
      "([310], 0.0)\n",
      "([311], 0.0)\n",
      "([312], 0.0)\n",
      "([313], 0.0)\n",
      "([314], 0.0)\n",
      "([315], 0.0)\n",
      "([316], 0.0)\n",
      "([317], 0.0)\n",
      "([318], 0.0)\n",
      "([319], 0.0)\n",
      "([320], 0.0)\n",
      "([321], 0.0)\n",
      "([322], 0.0)\n",
      "([323], 0.0)\n",
      "([324], 0.0)\n",
      "([325], 0.0)\n",
      "([326], 0.0)\n",
      "([327], 0.0)\n",
      "([328], 0.0)\n",
      "([329], 0.0)\n",
      "([330], 0.0)\n",
      "([331], 0.0)\n",
      "([332], 0.0)\n",
      "([333], 0.0)\n",
      "([334], 0.0)\n",
      "([335], 0.0)\n",
      "([336], 0.0)\n",
      "([337], 0.0)\n",
      "([338], 0.0)\n",
      "([339], 0.0)\n",
      "([340], 0.0)\n",
      "([341], 0.0)\n",
      "([342], 0.0)\n",
      "([343], 0.0)\n",
      "([344], 0.0)\n",
      "([345], 0.0)\n",
      "([346], 0.0)\n",
      "([347], 0.0)\n",
      "([348], 0.0)\n",
      "([349], 0.0)\n",
      "([350], 0.0)\n",
      "([351], 0.0)\n",
      "([352], 0.0)\n",
      "([353], 0.0)\n",
      "([354], 0.0)\n",
      "([355], 0.0)\n",
      "([356], 0.0)\n",
      "([357], 0.0)\n",
      "([358], 0.0)\n",
      "([359], 0.0)\n",
      "([360], 0.0)\n",
      "([361], 0.0)\n",
      "([362], 0.0)\n",
      "([363], 0.0)\n",
      "([364], 0.0)\n",
      "([365], 0.0)\n",
      "([366], 0.0)\n",
      "([367], 0.0)\n",
      "([368], 0.0)\n",
      "([369], 0.0)\n",
      "([289, 290], 0.014988169999999967)\n",
      "([45, 46], 0.016141790000000045)\n",
      "([70, 71], 0.016186290000000048)\n",
      "([211, 212], 0.019646410000000003)\n",
      "([48, 49], 0.02002598)\n",
      "([293, 294], 0.020196210000000048)\n",
      "([50, 51], 0.02128167000000003)\n",
      "([360, 361], 0.02139837)\n",
      "([101, 102], 0.021894140000000006)\n",
      "([43, 44], 0.022110460000000054)\n",
      "([135, 136], 0.022791349999999988)\n",
      "([240, 241], 0.023054660000000005)\n",
      "([82, 83], 0.02376383999999998)\n",
      "([355, 356], 0.023989579999999955)\n",
      "([231, 232], 0.024279770000000034)\n",
      "([350, 351], 0.02431161000000004)\n",
      "([238, 239], 0.02514183000000003)\n",
      "([16, 17], 0.025262099999999954)\n",
      "([297, 298], 0.025565999999999978)\n",
      "([287, 288], 0.025724140000000006)\n",
      "([284, 285], 0.026689060000000042)\n",
      "([46, 48], 0.027036240000000045)\n",
      "([10, 38], 0.027239420000000014)\n",
      "([347, 348], 0.027307149999999947)\n",
      "([216, 217], 0.02737215000000004)\n",
      "([10, 11], 0.027430060000000034)\n",
      "([303, 304], 0.02758413000000004)\n",
      "([72, 73], 0.02769299000000003)\n",
      "([362, 363], 0.027711200000000047)\n",
      "([21, 22], 0.028153890000000015)\n"
     ]
    }
   ],
   "source": [
    "for splx in filt_Rips_protein[0:400] :\n",
    "    print(splx)"
   ]
  },
  {
   "cell_type": "markdown",
   "metadata": {},
   "source": [
    "The integers represent the points in the metric space: the vertex [2] corresponds to the point decribed by the second raw (or the second column) in the distance matrix `mat_dist0`. \n",
    "\n",
    "The filtration value is the diameter of the simplex, which is zero for the vertices of course. The first edge in the filtration is [289, 290], these two points are the two closest points according to `mat_dist0`, at distance 0.015 of each other. "
   ]
  },
  {
   "cell_type": "markdown",
   "metadata": {},
   "source": [
    "### How to define an Alpha complex from a matrix of distance ?"
   ]
  },
  {
   "cell_type": "markdown",
   "metadata": {},
   "source": [
    "The [alpha complex filtration](https://en.wikipedia.org/wiki/Alpha_shape#Alpha_complex) of a point cloud in $\\mathbb R^p$ is a filtered simplicial complex constructed from the finite cells of a [Delaunay Triangulation](https://en.wikipedia.org/wiki/Delaunay_triangulation).\n",
    "\n",
    "In our case, the data does not belong to euclideen space $\\mathbb R^p$ and we are not in position to directly compute a Delaunay Triangulation in the metric space, using  the pairwise distances.\n",
    "\n",
    "The aim of [Multidimensional Scaling](https://en.wikipedia.org/wiki/Multidimensional_scaling) (MDS) methods is precisely to find a representation of $n$ points in a space $\\mathbb R^p$ that preserves as well as possible the pairwise distances between the $n$ points in the original metric space. The are several versions of MDS algorithms, the most popular ones are available in the [sckit-learn library](https://scikit-learn.org/stable/index.html), see this [documention](https://scikit-learn.org/stable/modules/generated/sklearn.manifold.MDS.html).\n",
    "\n",
    "Let's compute a (classical) MDS representation of the matrix `mat_dist0` in $\\mathbb R^3$:"
   ]
  },
  {
   "cell_type": "code",
   "execution_count": 13,
   "metadata": {},
   "outputs": [
    {
     "data": {
      "text/plain": [
       "(370, 3)"
      ]
     },
     "execution_count": 13,
     "metadata": {},
     "output_type": "execute_result"
    }
   ],
   "source": [
    "from sklearn.manifold import MDS\n",
    " \n",
    "embedding = MDS(n_components=3,dissimilarity='precomputed')\n",
    "X_transformed = embedding.fit_transform(mat_dist0)\n",
    "X_transformed.shape"
   ]
  },
  {
   "cell_type": "markdown",
   "metadata": {},
   "source": [
    "Now we can represent this configuration, for instance on the two first axes:"
   ]
  },
  {
   "cell_type": "code",
   "execution_count": 14,
   "metadata": {},
   "outputs": [
    {
     "data": {
      "image/png": "[encoded data removed]",
      "text/plain": [
       "<Figure size 432x288 with 1 Axes>"
      ]
     },
     "metadata": {
      "needs_background": "light"
     },
     "output_type": "display_data"
    }
   ],
   "source": [
    "fig = plt.figure()\n",
    "plt.scatter(X_transformed[:, 0], X_transformed[:, 1],label='MDS');"
   ]
  },
  {
   "cell_type": "markdown",
   "metadata": {},
   "source": [
    "Of course you should keep in mind that MDS provides an embedding of the data in $\\mathbb R^p$ that **approximatively** preserves the distance matrix."
   ]
  },
  {
   "cell_type": "markdown",
   "metadata": {},
   "source": [
    "The main advantage of Alpha complexes is that they contain  less simplices than Rips complexes do and so it can be a better option than Rips complexes. As subcomplexes of the Delaunay Triangulation complex, an alpha complex is a geometric simpicial complex.\n",
    "\n",
    "The `AlphaComplex()` function directly computes the simplex tree representing the Alpha complex:"
   ]
  },
  {
   "cell_type": "code",
   "execution_count": 15,
   "metadata": {},
   "outputs": [],
   "source": [
    "alpha_complex = gd.AlphaComplex(points=X_transformed)"
   ]
  },
  {
   "cell_type": "code",
   "execution_count": 16,
   "metadata": {},
   "outputs": [],
   "source": [
    "st_alpha = alpha_complex.create_simplex_tree()"
   ]
  },
  {
   "cell_type": "markdown",
   "metadata": {},
   "source": [
    "The point cloud `X_transformed` belongs to $\\mathbb R^3$ and so does the Alpha Complex:"
   ]
  },
  {
   "cell_type": "code",
   "execution_count": 17,
   "metadata": {},
   "outputs": [
    {
     "data": {
      "text/plain": [
       "3"
      ]
     },
     "execution_count": 17,
     "metadata": {},
     "output_type": "execute_result"
    }
   ],
   "source": [
    "st_alpha.dimension()"
   ]
  },
  {
   "cell_type": "markdown",
   "metadata": {},
   "source": [
    "As for the Rips complex, the 370 points are all vertices of the Alpha complex :"
   ]
  },
  {
   "cell_type": "code",
   "execution_count": 18,
   "metadata": {},
   "outputs": [
    {
     "name": "stdout",
     "output_type": "stream",
     "text": [
      "370\n"
     ]
    }
   ],
   "source": [
    "print(st_alpha.num_vertices())"
   ]
  },
  {
   "cell_type": "markdown",
   "metadata": {},
   "source": [
    "Note that the number of simplexes in the Alpha complex is much smaller then for the Rips complex we computed before:\n"
   ]
  },
  {
   "cell_type": "code",
   "execution_count": 19,
   "metadata": {},
   "outputs": [
    {
     "name": "stdout",
     "output_type": "stream",
     "text": [
      "9167\n"
     ]
    }
   ],
   "source": [
    "print(st_alpha.num_simplices())"
   ]
  },
  {
   "cell_type": "markdown",
   "metadata": {},
   "source": [
    "###  References"
   ]
  },
  {
   "cell_type": "markdown",
   "metadata": {},
   "source": [
    "[1] Using persistent homology and dynamical distances to analyze protein binding, V. Kovacev-Nikolic, P. Bubenik, D. Nikolic and G. Heo. Stat Appl Genet Mol Biol 2016 [arxiv link](https://arxiv.org/pdf/1412.1394.pdf)."
   ]
  }
 ],
 "metadata": {
  "anaconda-cloud": {},
  "kernelspec": {
   "display_name": "Python 3",
   "language": "python",
   "name": "python3"
  },
  "language_info": {
   "codemirror_mode": {
    "name": "ipython",
    "version": 3
   },
   "file_extension": ".py",
   "mimetype": "text/x-python",
   "name": "python",
   "nbconvert_exporter": "python",
   "pygments_lexer": "ipython3",
   "version": "3.6.8"
  }
 },
 "nbformat": 4,
 "nbformat_minor": 2
}
