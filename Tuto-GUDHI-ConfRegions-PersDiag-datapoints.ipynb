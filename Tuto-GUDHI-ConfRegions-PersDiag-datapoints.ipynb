{
 "cells": [
  {
   "cell_type": "markdown",
   "metadata": {},
   "source": [
    "# TDA with Python using the Gudhi Library  \n",
    "\n",
    "# Confidence regions for persistence diagrams : data points ([download](https://gudhi.github.io/TDA-tutorial/Tuto-GUDHI-ConfRegions-PersDiag-datapoints.ipynb.zip))"
   ]
  },
  {
   "cell_type": "code",
   "execution_count": 1,
   "metadata": {},
   "outputs": [],
   "source": [
    "import persistence_statistics as ps\n",
    "\n",
    "import pandas as pd\n",
    "import numpy as np\n",
    "import pickle as pickle\n",
    "import gudhi as gd  \n",
    "import seaborn as sbs\n",
    "from scipy.spatial import distance_matrix\n",
    "from pylab import *"
   ]
  },
  {
   "cell_type": "markdown",
   "metadata": {},
   "source": [
    "## Introduction"
   ]
  },
  {
   "cell_type": "markdown",
   "metadata": {},
   "source": [
    "In this tutorial, we introduce confidence regions for persistence diagrams built on a set of data points. We present the subsampling approach of [Fasy etal. 2014 AoS](https://projecteuclid.org/download/pdfview_1/euclid.aos/1413810729). An alternative method is the bottleneck bootstrap method introduced in [Chazal etal. 2018](http://www.jmlr.org/papers/v18/15-484.html) and presented in this [notebook](https://gudhi.github.io/TDA-tutorial/Tuto-GUDHI-ConfRegions-PersDiag-BottleneckBootstrap.html). See [this notebook](https://gudhi.github.io/TDA-tutorial/Tuto-GUDHI-persistence-diagrams.html) for an introduction to persistence diagrams with Gudhi."
   ]
  },
  {
   "cell_type": "markdown",
   "metadata": {},
   "source": [
    "<img src=\"Images/persistence.png\"  style=\"width: 600px;\"/>"
   ]
  },
  {
   "cell_type": "markdown",
   "metadata": {},
   "source": [
    "For many applications of persistent homology, we observe topological features close to the diagonal. Since they correspond to topological structures that die very soon after they appear in the filtration, these points are generally considered as \"topological noise\". Confidence regions for persistence diagram provide a rigorous framework to this idea."
   ]
  },
  {
   "cell_type": "markdown",
   "metadata": {},
   "source": [
    "Confidence regions for persistence diagrams provide a rigorous framework for selecting significant topological features in a persistence diagram. We use the bottleneck distance $d_b$ to define confidence regions. We see point clouds as random variables. Under this approach, persistence diagrams are also seen as random quantities."
   ]
  },
  {
   "cell_type": "markdown",
   "metadata": {},
   "source": [
    "## Confidence regions for persistence diagrams for point cloud data in $\\mathbb R^d$"
   ]
  },
  {
   "cell_type": "markdown",
   "metadata": {},
   "source": [
    "We introduce the method for a simulated dataset."
   ]
  },
  {
   "cell_type": "code",
   "execution_count": 2,
   "metadata": {},
   "outputs": [
    {
     "data": {
      "image/png": "[encoded data removed]",
      "text/plain": [
       "<Figure size 432x288 with 1 Axes>"
      ]
     },
     "metadata": {
      "needs_background": "light"
     },
     "output_type": "display_data"
    }
   ],
   "source": [
    "U1 = np.random.uniform(0,2 *  pi,size= 1000)\n",
    "V1 = np.array([[0.35 * cos(u) +0.02*np.random.uniform(-1,1) ,\n",
    "                0.35 *sin(u)+0.02*np.random.uniform(-1,1)] for u in U1])\n",
    "U2 = np.random.uniform(0,2 *  pi,size= 2000)\n",
    "V2 = np.array([[0.7* cos(u) +0.02*np.random.uniform(-1,1) ,\n",
    "                0.7*sin(u)+0.02*np.random.uniform(-1,1)] for u in U2])\n",
    "W = np.concatenate((V1,V2), axis=0)\n",
    "plt.scatter(W[:,0],W[:,1],s=0.1);\n"
   ]
  },
  {
   "cell_type": "markdown",
   "metadata": {},
   "source": [
    "#### Subsampling approach\n",
    "\n",
    "Let $\\mathbb X$ and $\\mathbb Y$ be two compact sets.\n",
    "For the filtrations given below, persistence homology is stable with respect of Hausdorff perturbations:\n",
    "$$\n",
    "d_b\\left( Dgm \\left(Filt(\\mathbb X) \\right)  ,  Dgm \\left(  Filt(\\mathbb Y) \\right)\\right)\n",
    "\\leq C_{Filt}\n",
    " Haus \\left(\\mathbb X, \\mathbb Y \\right)\n",
    "$$ \n",
    "\n",
    "The previous inequality is valid for the following Gudhi filtrations: \n",
    "- for the Rips complex filtration with $C_{Rips} = 2$, \n",
    "- for the $\\sqrt{alpha}$-complexes filtration (see further) with $C_{Alpha}= 1$. \n",
    "\n",
    "Following [Fasy etal. 2014 AoS](https://projecteuclid.org/download/pdfview_1/euclid.aos/1413810729) we derive confidence sets for persistence diagrams (for $d_b$) from confidence sets for compact sets (for $Haus$). Let $\\mathbb X_n$ be a sample from a distribution $P$ with compact support $\\mathbb X$. \n",
    "The aim is to find a parameter $c_\\alpha$ such that\n",
    "\n",
    "$$ P ( Hauss(\\mathbb X_n, \\mathbb X) \\leq c_\\alpha)  \\geq  1-\\alpha .$$\n",
    "\n",
    "The confidence set  $\\mathcal C$ we consider is a subset of all persistence diagrams whose bottleneck distance to $Dgm \\left(Filt(\\mathbb X_n) \\right) $ is less than $d_\\alpha$:\n",
    "$$ \\left\\{ Dgm   \\:  |  \\:  d_b \\left( Diag  , Dgm \\left(Filt(\\mathbb X_n) \\right)   \\right) c\\leq d_\\alpha  \\right\\},    $$\n",
    "with \n",
    "$$ d_\\alpha = C_{Filt} c_\\alpha .$$\n",
    "\n",
    "The `hausd_interval` function from the `persistence_statistics` module implements the subsampling method of [Fasy etal. 2014 AoS](https://projecteuclid.org/download/pdfview_1/euclid.aos/1413810729), it outputs an estimation $\\hat c_\\alpha$ of $c_\\alpha$. By default a multiprocessing computation is applied."
   ]
  },
  {
   "cell_type": "code",
   "execution_count": 3,
   "metadata": {},
   "outputs": [
    {
     "name": "stdout",
     "output_type": "stream",
     "text": [
      "0.05380215936396466\n"
     ]
    }
   ],
   "source": [
    "hatc = ps.hausd_interval(data=W,level = 0.90, m = 2500)\n",
    "print(hatc)"
   ]
  },
  {
   "cell_type": "markdown",
   "metadata": {},
   "source": [
    "#### Stability and confidence region for the $\\sqrt{alpha}$-filtration"
   ]
  },
  {
   "cell_type": "markdown",
   "metadata": {},
   "source": [
    "When computing confidence regions for alpha complexes, we need to be careful with the scale of values of the filtration because the filtration value of each simplex is computed as the square of the circumradius of the simplex (if the circumsphere is empty)."
   ]
  },
  {
   "cell_type": "code",
   "execution_count": 4,
   "metadata": {},
   "outputs": [],
   "source": [
    "Alpha_complex_W = gd.AlphaComplex(points = W)\n",
    "Alpha_simplex_tree_W = Alpha_complex_W.create_simplex_tree() "
   ]
  },
  {
   "cell_type": "markdown",
   "metadata": {},
   "source": [
    "We change the filtration value of each simplex by taking the square root of the filtration values:"
   ]
  },
  {
   "cell_type": "code",
   "execution_count": 5,
   "metadata": {},
   "outputs": [],
   "source": [
    "Alpha_simplex_tree_W_list = Alpha_simplex_tree_W.get_filtration()"
   ]
  },
  {
   "cell_type": "code",
   "execution_count": 6,
   "metadata": {},
   "outputs": [],
   "source": [
    "for splx in Alpha_simplex_tree_W_list:\n",
    "    Alpha_simplex_tree_W.assign_filtration(splx[0],filtration= np.sqrt(splx[1]))"
   ]
  },
  {
   "cell_type": "markdown",
   "metadata": {},
   "source": [
    "Now we can compute persistence for the rescaled $\\sqrt{alpha}$ complex filtration."
   ]
  },
  {
   "cell_type": "code",
   "execution_count": 7,
   "metadata": {},
   "outputs": [],
   "source": [
    "pers_alpha_W= Alpha_simplex_tree_W.persistence()"
   ]
  },
  {
   "cell_type": "code",
   "execution_count": 8,
   "metadata": {},
   "outputs": [
    {
     "name": "stdout",
     "output_type": "stream",
     "text": [
      "Deprecated parameter. It has been replaced by max_intervals\n"
     ]
    },
    {
     "data": {
      "image/png": "[encoded data removed]",
      "text/plain": [
       "<Figure size 432x288 with 1 Axes>"
      ]
     },
     "metadata": {
      "needs_background": "light"
     },
     "output_type": "display_data"
    }
   ],
   "source": [
    "gd.plot_persistence_diagram(pers_alpha_W);"
   ]
  },
  {
   "cell_type": "markdown",
   "metadata": {},
   "source": [
    "We now define the confidence region for this persistence diagram. We have to take a band of width $ d_\\alpha = C_{Filt} c_\\alpha $ $\\hat c_\\alpha$ to compute and plot the confidence band. The `band` parameter is the vertical height of the confidence region, it is thus twice the value of $\\hat c _\\alpha$ (because the bottleneck distance is based on the $\\ell_\\infty$ norm)."
   ]
  },
  {
   "cell_type": "code",
   "execution_count": 9,
   "metadata": {},
   "outputs": [
    {
     "name": "stdout",
     "output_type": "stream",
     "text": [
      "Deprecated parameter. It has been replaced by max_intervals\n"
     ]
    },
    {
     "data": {
      "image/png": "[encoded data removed]",
      "text/plain": [
       "<Figure size 432x288 with 1 Axes>"
      ]
     },
     "metadata": {
      "needs_background": "light"
     },
     "output_type": "display_data"
    }
   ],
   "source": [
    "gd.plot_persistence_diagram(pers_alpha_W, band=2 * hatc);"
   ]
  },
  {
   "cell_type": "markdown",
   "metadata": {},
   "source": [
    "Only the topological features above the red band are considered as significant. Here we select the main topological features by this way.\n",
    "\n",
    "Generally speaking, the procedure is very conservative: the band is very large and only very few topological features are seen as significant. An alternative approach is the bottleneck bootstrap method, see this [notebook](https://gudhi.github.io/TDA-tutorial/Tuto-GUDHI-ConfRegions-PersDiag-BottleneckBootstrap.html). "
   ]
  },
  {
   "cell_type": "markdown",
   "metadata": {},
   "source": [
    "## Confidence regions for persistence diagrams of filtrations based on pairwise distances"
   ]
  },
  {
   "cell_type": "markdown",
   "metadata": {},
   "source": [
    "The subsampling approach can be also applied when data come has a matrix of pairwise distances."
   ]
  },
  {
   "cell_type": "markdown",
   "metadata": {},
   "source": [
    "We illustrate the procedure with the `trefoil_dist` dataset which contains the distances between 1000 points sampled in the neighborhood of a trefoil curve."
   ]
  },
  {
   "cell_type": "code",
   "execution_count": 10,
   "metadata": {},
   "outputs": [],
   "source": [
    "trefoil_dist = pickle.load( open( \"./datasets/trefoil_dist\", \"rb\" ) )"
   ]
  },
  {
   "cell_type": "markdown",
   "metadata": {},
   "source": [
    "We use again the `hausd_interval` function to infer the Hausdorff distance between the data and the support of the underlying distribution of the data."
   ]
  },
  {
   "cell_type": "code",
   "execution_count": 11,
   "metadata": {},
   "outputs": [
    {
     "name": "stdout",
     "output_type": "stream",
     "text": [
      "0.3957635979268013\n"
     ]
    }
   ],
   "source": [
    "hatc = ps.hausd_interval(trefoil_dist,pairwise_dist=True,level = 0.90, m = 900)\n",
    "print(hatc)"
   ]
  },
  {
   "cell_type": "markdown",
   "metadata": {},
   "source": [
    "Now, we define the Rips complex filtration from the matrix of pairwise distances:"
   ]
  },
  {
   "cell_type": "code",
   "execution_count": 12,
   "metadata": {},
   "outputs": [],
   "source": [
    "skeleton_trefoil = gd.RipsComplex(distance_matrix = trefoil_dist,max_edge_length=2) \n",
    "Rips_simplex_tree_trefoil = skeleton_trefoil.create_simplex_tree(max_dimension=2)"
   ]
  },
  {
   "cell_type": "markdown",
   "metadata": {},
   "source": [
    "and we compute persistence on this filtration:"
   ]
  },
  {
   "cell_type": "code",
   "execution_count": 13,
   "metadata": {},
   "outputs": [],
   "source": [
    "BarCodes_trefoil = Rips_simplex_tree_trefoil.persistence()"
   ]
  },
  {
   "cell_type": "markdown",
   "metadata": {},
   "source": [
    "To define a confidence band for the persistence diagram, we have to take a band of width $ \\hat d_\\alpha = 2 \\hat c_\\alpha$.\n",
    "\n",
    "The `band` parameter being the vertical height of the confidence region, it is twice the value of $\\hat d _\\alpha$ (because the bottleneck distance is based on the $\\ell_\\infty$ norm).\n",
    "\n",
    "So finally we take this band parameter equal to four times $\\hat c_\\alpha$."
   ]
  },
  {
   "cell_type": "code",
   "execution_count": 14,
   "metadata": {},
   "outputs": [
    {
     "name": "stdout",
     "output_type": "stream",
     "text": [
      "Deprecated parameter. It has been replaced by max_intervals\n"
     ]
    },
    {
     "data": {
      "image/png": "[encoded data removed]",
      "text/plain": [
       "<Figure size 432x288 with 1 Axes>"
      ]
     },
     "metadata": {
      "needs_background": "light"
     },
     "output_type": "display_data"
    }
   ],
   "source": [
    "gd.plot_persistence_diagram(BarCodes_trefoil,band = 4*hatc);"
   ]
  },
  {
   "cell_type": "markdown",
   "metadata": {},
   "source": [
    "We see that only one topological feature of dimension 1 is seen as a significant. An alternative approach is the bottleneck bootstrap method, see this [notebook](https://gudhi.github.io/TDA-tutorial/Tuto-GUDHI-ConfRegions-PersDiag-BottleneckBootstrap.html)."
   ]
  }
 ],
 "metadata": {
  "anaconda-cloud": {},
  "kernelspec": {
   "display_name": "Python 3",
   "language": "python",
   "name": "python3"
  },
  "language_info": {
   "codemirror_mode": {
    "name": "ipython",
    "version": 3
   },
   "file_extension": ".py",
   "mimetype": "text/x-python",
   "name": "python",
   "nbconvert_exporter": "python",
   "pygments_lexer": "ipython3",
   "version": "3.6.8"
  }
 },
 "nbformat": 4,
 "nbformat_minor": 2
}
