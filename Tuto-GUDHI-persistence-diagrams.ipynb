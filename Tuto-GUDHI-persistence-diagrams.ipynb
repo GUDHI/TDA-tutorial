{
 "cells": [
  {
   "cell_type": "markdown",
   "metadata": {
    "collapsed": true
   },
   "source": [
    "# TDA  with Python using the Gudhi Library  \n",
    "\n",
    "# Persistent homology and persistence diagrams"
   ]
  },
  {
   "cell_type": "code",
   "execution_count": 1,
   "metadata": {},
   "outputs": [],
   "source": [
    "import numpy as np\n",
    "import pandas as pd\n",
    "import gudhi as gd  \n",
    "from sklearn import manifold\n",
    "from pylab import *\n",
    "%matplotlib inline\n",
    "# import sklearn_tda"
   ]
  },
  {
   "cell_type": "markdown",
   "metadata": {},
   "source": [
    "### Persistent homology and persistence diagram"
   ]
  },
  {
   "cell_type": "markdown",
   "metadata": {},
   "source": [
    "One strong motivation for defining homology groups is the fact that two shapes can be distinguished by examining their holes.\n",
    "\n",
    "Persistent homology is a powerful tool to compute, study and encode efficiently multiscale topological features  of nested families of simplicial complexes and topological spaces. It encodes the evolution of the homology groups of the nested complexes (holes) across the scales.\n",
    "\n",
    "In the example below we consider the filtration given by a union of growing balls centered on the finite set of points $C$. \n",
    "<img src=\"Images/persistence.png\"  style=\"width: 600px;\"/>"
   ]
  },
  {
   "cell_type": "markdown",
   "metadata": {},
   "source": [
    "\n",
    "a) For the radius r = 0, the union of balls is reduced to the initial finite set of point, each of them corresponding to a 0-dimensional feature, i.e. a connected component; an interval is created for the birth for each of these features at r = 0.  \n",
    "\n",
    "b) Some of the balls started to overlap resulting in the death of some connected components that get merged together; the persistence diagram keeps track of these deaths, putting an end point to the corresponding intervals as they disappear.    \n",
    "\n",
    "c) New components have merged giving rise to a single connected component and, so, all the intervals associated to a 0-dimensional feature have been ended, except the one corresponding to the remaining components; two new 1-dimensional features, have appeared resulting in two new intervals (in blue) starting at their birth scale.  \n",
    "\n",
    "d) One of the two 1-dimensional cycles has been filled, resulting in its death in the filtration and the end of the corresponding blue interval.     \n",
    "\n",
    "e) all the 1-dimensional features have died, it only remains the long (and never dying) red interval. \n",
    "\n",
    "The final barcode can also be equivalently represented as **a persistence diagram** where every interval (a,b) is represented by the the point of coordinate (a,b) in $\\mathbb R^2$. \n",
    "\n",
    "Intuitively the longer is an interval in the barcode or, equivalently the farther from the diagonal is the corresponding point in the diagram, the more persistent, and thus relevant, is the corresponding homological feature across the filtration. \n",
    " \n",
    "          "
   ]
  },
  {
   "cell_type": "markdown",
   "metadata": {},
   "source": [
    "### Protein binding dataset\n",
    "\n",
    "The data we study in this notebook pertains to configurations of protein binding. This example is borrowed from the paper of Kovacev-Nikolic et al. [[1]](https://arxiv.org/pdf/1412.1394.pdf).\n",
    "\n",
    "The paper compares closed and open forms of the maltose-binding protein (MBP), a large biomolecule containing $370$ amino-acid residues. The analysis is not based on geometric distances in $\\mathbb R^3$ but on a metric of *dynamical distances* defined by\n",
    "\n",
    "$$ D_{ij} = 1 - |C_{ij}|, $$\n",
    "\n",
    "where $C$ is the correlation matrix between residues.\n",
    "\n",
    "Correlation matrices between residues can be found at this [link](https://www.researchgate.net/publication/301543862_corr). We are greatful to the authors for sharing data.\n",
    "\n",
    "We start from the Vietoris-Rips filtrations of the Protein binding distance matrices. See this [previous tutorial](Tuto-GUDHI-simplicial-complexes-from-distance-matrix.ipynb) for more details on how to build the Rips complex."
   ]
  },
  {
   "cell_type": "code",
   "execution_count": 2,
   "metadata": {},
   "outputs": [],
   "source": [
    "path_file = \"./datasets/Corr_ProteinBinding/\"\n",
    "files_list = [\n",
    "    '1anf.corr_1.txt', \n",
    "    '1ez9.corr_1.txt', \n",
    "    '1fqa.corr_2.txt', \n",
    "    '1fqb.corr_3.txt', \n",
    "    '1fqc.corr_2.txt', \n",
    "    '1fqd.corr_3.txt', \n",
    "    '1jw4.corr_4.txt', \n",
    "    '1jw5.corr_5.txt', \n",
    "    '1lls.corr_6.txt', \n",
    "    '1mpd.corr_4.txt', \n",
    "    '1omp.corr_7.txt', \n",
    "    '3hpi.corr_5.txt', \n",
    "    '3mbp.corr_6.txt', \n",
    "    '4mbp.corr_7.txt'\n",
    "]\n",
    "\n",
    "corr_list = [pd.read_csv(path_file + u,\n",
    "                         header = None,\n",
    "                         delim_whitespace = True) for u in files_list]\n",
    "\n",
    "dist_list = [ 1- np.abs(c) for c in corr_list]"
   ]
  },
  {
   "cell_type": "markdown",
   "metadata": {},
   "source": [
    "We first consider the first distance matrix:"
   ]
  },
  {
   "cell_type": "code",
   "execution_count": 3,
   "metadata": {},
   "outputs": [],
   "source": [
    "D0 = dist_list[0]"
   ]
  },
  {
   "cell_type": "markdown",
   "metadata": {},
   "source": [
    "### Persistence barcodes and persistence diagrams"
   ]
  },
  {
   "cell_type": "markdown",
   "metadata": {},
   "source": [
    "We build the Vietoris-Rips complex from the distance matrix `D0`. See this [notebook](Tuto-GUDHI-simplicial-complexes-from-distance-matrix.ipynb) for more details."
   ]
  },
  {
   "cell_type": "code",
   "execution_count": 4,
   "metadata": {},
   "outputs": [],
   "source": [
    "skeleton_protein0 = gd.RipsComplex(\n",
    "    distance_matrix = D0.values, \n",
    "    max_edge_length = 0.8\n",
    ") \n",
    "\n",
    "Rips_simplex_tree_protein0 = skeleton_protein0.create_simplex_tree(max_dimension = 2)"
   ]
  },
  {
   "cell_type": "markdown",
   "metadata": {},
   "source": [
    "Now we can compute persistence on the simplex tree structure using the `persistence()` method of the simplex tree class:"
   ]
  },
  {
   "cell_type": "code",
   "execution_count": 5,
   "metadata": {},
   "outputs": [],
   "source": [
    "BarCodes_Rips0 = Rips_simplex_tree_protein0.persistence()"
   ]
  },
  {
   "cell_type": "markdown",
   "metadata": {},
   "source": [
    "The object `BarCodes_Rips0` is the list of barcodes: each element in the list is a tuple (dim,(b,d)) where dim is a dimension, b is birth parameter  and d is death parameter.\n",
    "\n",
    "Let's print the 20 first elements in the list:"
   ]
  },
  {
   "cell_type": "code",
   "execution_count": 6,
   "metadata": {},
   "outputs": [
    {
     "name": "stdout",
     "output_type": "stream",
     "text": [
      "(1, (0.07963602000000003, 0.35798637))\n",
      "(1, (0.12677510000000003, 0.39508646999999997))\n",
      "(1, (0.26003449999999995, 0.5273952))\n",
      "(1, (0.07943339999999999, 0.31429881000000004))\n",
      "(1, (0.08248586999999996, 0.30429980999999995))\n",
      "(1, (0.11378021999999999, 0.31171713999999995))\n",
      "(1, (0.07726765000000002, 0.26078758))\n",
      "(1, (0.09107215000000002, 0.25065161999999996))\n",
      "(1, (0.0709843, 0.22765623000000001))\n",
      "(1, (0.09347402000000005, 0.24999733000000002))\n",
      "(1, (0.07013614000000001, 0.22504734000000004))\n",
      "(1, (0.08752541000000003, 0.20355559))\n",
      "(1, (0.21541215000000002, 0.32814707))\n",
      "(1, (0.06835270000000004, 0.17527247))\n",
      "(1, (0.08857625000000002, 0.19539684000000002))\n",
      "(1, (0.08241111999999995, 0.18353136999999997))\n",
      "(1, (0.10362273, 0.20264340000000003))\n",
      "(1, (0.09289979999999998, 0.19181444000000003))\n",
      "(1, (0.09581541999999998, 0.19310879999999997))\n",
      "(1, (0.09541275000000005, 0.18175165000000004))\n"
     ]
    }
   ],
   "source": [
    "for i in range(20):\n",
    "    print(BarCodes_Rips0[i])"
   ]
  },
  {
   "cell_type": "markdown",
   "metadata": {},
   "source": [
    "These 20 topolological features have dimension 1, they corresponds to holes of dimension 1."
   ]
  },
  {
   "cell_type": "markdown",
   "metadata": {},
   "source": [
    "We have access to persistence_intervals per dimension using the `persistence_intervals_in_dimension()` method, for instance for dimension 0:"
   ]
  },
  {
   "cell_type": "code",
   "execution_count": 7,
   "metadata": {},
   "outputs": [
    {
     "data": {
      "text/plain": [
       "array([[0.        , 0.01498817],\n",
       "       [0.        , 0.01614179],\n",
       "       [0.        , 0.01618629],\n",
       "       [0.        , 0.01964641],\n",
       "       [0.        , 0.02002598],\n",
       "       [0.        , 0.02019621],\n",
       "       [0.        , 0.02128167],\n",
       "       [0.        , 0.02139837],\n",
       "       [0.        , 0.02189414],\n",
       "       [0.        , 0.02211046],\n",
       "       [0.        , 0.02279135],\n",
       "       [0.        , 0.02305466],\n",
       "       [0.        , 0.02376384],\n",
       "       [0.        , 0.02398958],\n",
       "       [0.        , 0.02427977],\n",
       "       [0.        , 0.02431161],\n",
       "       [0.        , 0.02514183],\n",
       "       [0.        , 0.0252621 ],\n",
       "       [0.        , 0.025566  ],\n",
       "       [0.        , 0.02572414],\n",
       "       [0.        , 0.02668906],\n",
       "       [0.        , 0.02703624],\n",
       "       [0.        , 0.02723942],\n",
       "       [0.        , 0.02730715],\n",
       "       [0.        , 0.02737215],\n",
       "       [0.        , 0.02743006],\n",
       "       [0.        , 0.02758413],\n",
       "       [0.        , 0.02769299],\n",
       "       [0.        , 0.0277112 ],\n",
       "       [0.        , 0.02815389],\n",
       "       [0.        , 0.02889452],\n",
       "       [0.        , 0.0291826 ],\n",
       "       [0.        , 0.02937602],\n",
       "       [0.        , 0.02954253],\n",
       "       [0.        , 0.02960991],\n",
       "       [0.        , 0.02965513],\n",
       "       [0.        , 0.02989476],\n",
       "       [0.        , 0.0299387 ],\n",
       "       [0.        , 0.03005481],\n",
       "       [0.        , 0.03019355],\n",
       "       [0.        , 0.0302212 ],\n",
       "       [0.        , 0.03044412],\n",
       "       [0.        , 0.03061732],\n",
       "       [0.        , 0.03066776],\n",
       "       [0.        , 0.03093647],\n",
       "       [0.        , 0.03093904],\n",
       "       [0.        , 0.03096135],\n",
       "       [0.        , 0.03119385],\n",
       "       [0.        , 0.03127303],\n",
       "       [0.        , 0.03137071],\n",
       "       [0.        , 0.03139056],\n",
       "       [0.        , 0.03141663],\n",
       "       [0.        , 0.03147105],\n",
       "       [0.        , 0.03165437],\n",
       "       [0.        , 0.03197555],\n",
       "       [0.        , 0.0320141 ],\n",
       "       [0.        , 0.03203755],\n",
       "       [0.        , 0.0320416 ],\n",
       "       [0.        , 0.03204383],\n",
       "       [0.        , 0.03205409],\n",
       "       [0.        , 0.03209123],\n",
       "       [0.        , 0.03216506],\n",
       "       [0.        , 0.03251925],\n",
       "       [0.        , 0.03252582],\n",
       "       [0.        , 0.0326297 ],\n",
       "       [0.        , 0.03320018],\n",
       "       [0.        , 0.03320555],\n",
       "       [0.        , 0.03322223],\n",
       "       [0.        , 0.03329767],\n",
       "       [0.        , 0.03348698],\n",
       "       [0.        , 0.03385555],\n",
       "       [0.        , 0.03414255],\n",
       "       [0.        , 0.03438535],\n",
       "       [0.        , 0.03452845],\n",
       "       [0.        , 0.03464101],\n",
       "       [0.        , 0.0351205 ],\n",
       "       [0.        , 0.03512744],\n",
       "       [0.        , 0.03513682],\n",
       "       [0.        , 0.03527348],\n",
       "       [0.        , 0.03541263],\n",
       "       [0.        , 0.03559076],\n",
       "       [0.        , 0.03564263],\n",
       "       [0.        , 0.03568637],\n",
       "       [0.        , 0.03572321],\n",
       "       [0.        , 0.03593942],\n",
       "       [0.        , 0.03595195],\n",
       "       [0.        , 0.03602799],\n",
       "       [0.        , 0.03609681],\n",
       "       [0.        , 0.03610733],\n",
       "       [0.        , 0.03616306],\n",
       "       [0.        , 0.03644183],\n",
       "       [0.        , 0.03654824],\n",
       "       [0.        , 0.03661895],\n",
       "       [0.        , 0.03724071],\n",
       "       [0.        , 0.03733498],\n",
       "       [0.        , 0.03768468],\n",
       "       [0.        , 0.03774493],\n",
       "       [0.        , 0.03798143],\n",
       "       [0.        , 0.03815909],\n",
       "       [0.        , 0.03847974],\n",
       "       [0.        , 0.03851494],\n",
       "       [0.        , 0.03857502],\n",
       "       [0.        , 0.03892696],\n",
       "       [0.        , 0.03907595],\n",
       "       [0.        , 0.03913963],\n",
       "       [0.        , 0.0392337 ],\n",
       "       [0.        , 0.03926192],\n",
       "       [0.        , 0.03947112],\n",
       "       [0.        , 0.03964138],\n",
       "       [0.        , 0.0397164 ],\n",
       "       [0.        , 0.03975846],\n",
       "       [0.        , 0.03984852],\n",
       "       [0.        , 0.03997199],\n",
       "       [0.        , 0.04015835],\n",
       "       [0.        , 0.04017049],\n",
       "       [0.        , 0.04023692],\n",
       "       [0.        , 0.04046704],\n",
       "       [0.        , 0.04072276],\n",
       "       [0.        , 0.04074775],\n",
       "       [0.        , 0.04088823],\n",
       "       [0.        , 0.04095619],\n",
       "       [0.        , 0.04096195],\n",
       "       [0.        , 0.04110269],\n",
       "       [0.        , 0.04123369],\n",
       "       [0.        , 0.04127687],\n",
       "       [0.        , 0.04131072],\n",
       "       [0.        , 0.04140789],\n",
       "       [0.        , 0.04165062],\n",
       "       [0.        , 0.04176154],\n",
       "       [0.        , 0.04181859],\n",
       "       [0.        , 0.04191496],\n",
       "       [0.        , 0.04196476],\n",
       "       [0.        , 0.0420939 ],\n",
       "       [0.        , 0.04227029],\n",
       "       [0.        , 0.04236735],\n",
       "       [0.        , 0.04254986],\n",
       "       [0.        , 0.04260688],\n",
       "       [0.        , 0.04261734],\n",
       "       [0.        , 0.04266441],\n",
       "       [0.        , 0.04296581],\n",
       "       [0.        , 0.04303701],\n",
       "       [0.        , 0.04306739],\n",
       "       [0.        , 0.04317269],\n",
       "       [0.        , 0.04346509],\n",
       "       [0.        , 0.0437037 ],\n",
       "       [0.        , 0.04372465],\n",
       "       [0.        , 0.04383413],\n",
       "       [0.        , 0.04391404],\n",
       "       [0.        , 0.04398658],\n",
       "       [0.        , 0.04400293],\n",
       "       [0.        , 0.04407297],\n",
       "       [0.        , 0.04409098],\n",
       "       [0.        , 0.04435811],\n",
       "       [0.        , 0.04439728],\n",
       "       [0.        , 0.04443404],\n",
       "       [0.        , 0.0444774 ],\n",
       "       [0.        , 0.04451368],\n",
       "       [0.        , 0.04482899],\n",
       "       [0.        , 0.04495304],\n",
       "       [0.        , 0.04547506],\n",
       "       [0.        , 0.04547828],\n",
       "       [0.        , 0.0455478 ],\n",
       "       [0.        , 0.04615431],\n",
       "       [0.        , 0.04619047],\n",
       "       [0.        , 0.04625533],\n",
       "       [0.        , 0.04628039],\n",
       "       [0.        , 0.04678061],\n",
       "       [0.        , 0.04679402],\n",
       "       [0.        , 0.04680115],\n",
       "       [0.        , 0.04704526],\n",
       "       [0.        , 0.04719844],\n",
       "       [0.        , 0.04747816],\n",
       "       [0.        , 0.04767326],\n",
       "       [0.        , 0.04768366],\n",
       "       [0.        , 0.04792482],\n",
       "       [0.        , 0.04797942],\n",
       "       [0.        , 0.04802758],\n",
       "       [0.        , 0.04811274],\n",
       "       [0.        , 0.04824104],\n",
       "       [0.        , 0.04824237],\n",
       "       [0.        , 0.04833753],\n",
       "       [0.        , 0.04848755],\n",
       "       [0.        , 0.0485553 ],\n",
       "       [0.        , 0.04857819],\n",
       "       [0.        , 0.04860536],\n",
       "       [0.        , 0.04885771],\n",
       "       [0.        , 0.04897734],\n",
       "       [0.        , 0.04901851],\n",
       "       [0.        , 0.04944188],\n",
       "       [0.        , 0.04948698],\n",
       "       [0.        , 0.04950527],\n",
       "       [0.        , 0.049558  ],\n",
       "       [0.        , 0.04972988],\n",
       "       [0.        , 0.04981983],\n",
       "       [0.        , 0.04982386],\n",
       "       [0.        , 0.04984923],\n",
       "       [0.        , 0.04986276],\n",
       "       [0.        , 0.05027105],\n",
       "       [0.        , 0.0504428 ],\n",
       "       [0.        , 0.05055695],\n",
       "       [0.        , 0.05066297],\n",
       "       [0.        , 0.05070345],\n",
       "       [0.        , 0.0509538 ],\n",
       "       [0.        , 0.05103037],\n",
       "       [0.        , 0.0510853 ],\n",
       "       [0.        , 0.0511247 ],\n",
       "       [0.        , 0.05119141],\n",
       "       [0.        , 0.05125808],\n",
       "       [0.        , 0.0514161 ],\n",
       "       [0.        , 0.05146225],\n",
       "       [0.        , 0.05157315],\n",
       "       [0.        , 0.05181604],\n",
       "       [0.        , 0.0518984 ],\n",
       "       [0.        , 0.05228542],\n",
       "       [0.        , 0.05245802],\n",
       "       [0.        , 0.05249016],\n",
       "       [0.        , 0.05256426],\n",
       "       [0.        , 0.05261345],\n",
       "       [0.        , 0.052687  ],\n",
       "       [0.        , 0.05269135],\n",
       "       [0.        , 0.05286959],\n",
       "       [0.        , 0.05308782],\n",
       "       [0.        , 0.05312981],\n",
       "       [0.        , 0.05328802],\n",
       "       [0.        , 0.05388745],\n",
       "       [0.        , 0.05406629],\n",
       "       [0.        , 0.05424359],\n",
       "       [0.        , 0.05432115],\n",
       "       [0.        , 0.05434062],\n",
       "       [0.        , 0.05447437],\n",
       "       [0.        , 0.05475445],\n",
       "       [0.        , 0.0547687 ],\n",
       "       [0.        , 0.05480814],\n",
       "       [0.        , 0.05501963],\n",
       "       [0.        , 0.05515901],\n",
       "       [0.        , 0.0551603 ],\n",
       "       [0.        , 0.05521654],\n",
       "       [0.        , 0.05539072],\n",
       "       [0.        , 0.05547035],\n",
       "       [0.        , 0.05559308],\n",
       "       [0.        , 0.05608519],\n",
       "       [0.        , 0.05611108],\n",
       "       [0.        , 0.05611354],\n",
       "       [0.        , 0.05622496],\n",
       "       [0.        , 0.05627249],\n",
       "       [0.        , 0.05637189],\n",
       "       [0.        , 0.057297  ],\n",
       "       [0.        , 0.05729971],\n",
       "       [0.        , 0.05746997],\n",
       "       [0.        , 0.05753706],\n",
       "       [0.        , 0.05846568],\n",
       "       [0.        , 0.05849421],\n",
       "       [0.        , 0.05855491],\n",
       "       [0.        , 0.05858433],\n",
       "       [0.        , 0.05881015],\n",
       "       [0.        , 0.05891398],\n",
       "       [0.        , 0.05910734],\n",
       "       [0.        , 0.05927985],\n",
       "       [0.        , 0.05930276],\n",
       "       [0.        , 0.05937792],\n",
       "       [0.        , 0.0595791 ],\n",
       "       [0.        , 0.05959093],\n",
       "       [0.        , 0.05960105],\n",
       "       [0.        , 0.06001639],\n",
       "       [0.        , 0.06091708],\n",
       "       [0.        , 0.06102111],\n",
       "       [0.        , 0.0611472 ],\n",
       "       [0.        , 0.061409  ],\n",
       "       [0.        , 0.06150065],\n",
       "       [0.        , 0.06153714],\n",
       "       [0.        , 0.06154331],\n",
       "       [0.        , 0.06164122],\n",
       "       [0.        , 0.0619127 ],\n",
       "       [0.        , 0.06200894],\n",
       "       [0.        , 0.06212457],\n",
       "       [0.        , 0.0624782 ],\n",
       "       [0.        , 0.06275173],\n",
       "       [0.        , 0.06289645],\n",
       "       [0.        , 0.06309263],\n",
       "       [0.        , 0.06329755],\n",
       "       [0.        , 0.06339085],\n",
       "       [0.        , 0.06340604],\n",
       "       [0.        , 0.0634087 ],\n",
       "       [0.        , 0.06365607],\n",
       "       [0.        , 0.06370852],\n",
       "       [0.        , 0.06376314],\n",
       "       [0.        , 0.06452474],\n",
       "       [0.        , 0.06464462],\n",
       "       [0.        , 0.06539584],\n",
       "       [0.        , 0.0655788 ],\n",
       "       [0.        , 0.06560913],\n",
       "       [0.        , 0.06565494],\n",
       "       [0.        , 0.06628835],\n",
       "       [0.        , 0.0664005 ],\n",
       "       [0.        , 0.06651979],\n",
       "       [0.        , 0.0665555 ],\n",
       "       [0.        , 0.06667502],\n",
       "       [0.        , 0.0667084 ],\n",
       "       [0.        , 0.06679813],\n",
       "       [0.        , 0.0668217 ],\n",
       "       [0.        , 0.06688167],\n",
       "       [0.        , 0.06728802],\n",
       "       [0.        , 0.06736142],\n",
       "       [0.        , 0.06764264],\n",
       "       [0.        , 0.06825241],\n",
       "       [0.        , 0.06869392],\n",
       "       [0.        , 0.06877336],\n",
       "       [0.        , 0.06892966],\n",
       "       [0.        , 0.06897429],\n",
       "       [0.        , 0.06918575],\n",
       "       [0.        , 0.06954789],\n",
       "       [0.        , 0.06996146],\n",
       "       [0.        , 0.07021497],\n",
       "       [0.        , 0.07103847],\n",
       "       [0.        , 0.07105814],\n",
       "       [0.        , 0.07122811],\n",
       "       [0.        , 0.07162656],\n",
       "       [0.        , 0.07171408],\n",
       "       [0.        , 0.07273788],\n",
       "       [0.        , 0.07326412],\n",
       "       [0.        , 0.07355539],\n",
       "       [0.        , 0.07385251],\n",
       "       [0.        , 0.0738902 ],\n",
       "       [0.        , 0.07394715],\n",
       "       [0.        , 0.07403273],\n",
       "       [0.        , 0.0746566 ],\n",
       "       [0.        , 0.07496114],\n",
       "       [0.        , 0.07510989],\n",
       "       [0.        , 0.07526754],\n",
       "       [0.        , 0.0761947 ],\n",
       "       [0.        , 0.07620041],\n",
       "       [0.        , 0.07628743],\n",
       "       [0.        , 0.07870332],\n",
       "       [0.        , 0.07881973],\n",
       "       [0.        , 0.07893213],\n",
       "       [0.        , 0.07893759],\n",
       "       [0.        , 0.07933292],\n",
       "       [0.        , 0.08004957],\n",
       "       [0.        , 0.08036911],\n",
       "       [0.        , 0.08080199],\n",
       "       [0.        , 0.08109694],\n",
       "       [0.        , 0.081755  ],\n",
       "       [0.        , 0.08176781],\n",
       "       [0.        , 0.08248695],\n",
       "       [0.        , 0.08258634],\n",
       "       [0.        , 0.08299805],\n",
       "       [0.        , 0.08464198],\n",
       "       [0.        , 0.08729047],\n",
       "       [0.        , 0.08744106],\n",
       "       [0.        , 0.08878104],\n",
       "       [0.        , 0.08969459],\n",
       "       [0.        , 0.09321352],\n",
       "       [0.        , 0.09341871],\n",
       "       [0.        , 0.09479173],\n",
       "       [0.        , 0.09541855],\n",
       "       [0.        , 0.10237913],\n",
       "       [0.        , 0.10285434],\n",
       "       [0.        , 0.10715871],\n",
       "       [0.        , 0.10830089],\n",
       "       [0.        , 0.10954903],\n",
       "       [0.        , 0.11366507],\n",
       "       [0.        , 0.11958183],\n",
       "       [0.        , 0.14547953],\n",
       "       [0.        , 0.18964299],\n",
       "       [0.        , 0.39963213],\n",
       "       [0.        , 0.40540978],\n",
       "       [0.        , 0.4251596 ],\n",
       "       [0.        , 0.50723615],\n",
       "       [0.        , 0.66869636],\n",
       "       [0.        ,        inf]])"
      ]
     },
     "execution_count": 7,
     "metadata": {},
     "output_type": "execute_result"
    }
   ],
   "source": [
    "Rips_simplex_tree_protein0.persistence_intervals_in_dimension(0)"
   ]
  },
  {
   "cell_type": "markdown",
   "metadata": {},
   "source": [
    "The last bars (0.0, inf) die at infinity."
   ]
  },
  {
   "cell_type": "markdown",
   "metadata": {},
   "source": [
    "Finally we can plot the points (birth, death) in the so-called **persistence diagram**:"
   ]
  },
  {
   "cell_type": "code",
   "execution_count": 8,
   "metadata": {},
   "outputs": [
    {
     "data": {
      "image/png": "[encoded data removed]",
      "text/plain": [
       "<Figure size 432x288 with 1 Axes>"
      ]
     },
     "metadata": {
      "needs_background": "light"
     },
     "output_type": "display_data"
    }
   ],
   "source": [
    "gd.plot_persistence_diagram(BarCodes_Rips0);"
   ]
  },
  {
   "cell_type": "markdown",
   "metadata": {},
   "source": [
    "In this representation, $0$-dimensional features are the red points (holes of dimension $0$, namely connected components). The last connected component dies at infinity in the filtration (red point at the top). The $1$-dimensional features are represented in blue. \n",
    "\n",
    "The most persistent topological features are those points that are far from the diagonal. Further in the tutorial we give statistical methods to identify significant topological features.\n",
    "\n",
    "Note that this representation does not say which points are \"at the origin\" of a given feature. Moreover, a given topological feature (namely a homology class that corresponds to a hole of dimension $d$) is by definition a class of cycles defined on the point cloud and thus it can be represented by several cycles."
   ]
  },
  {
   "cell_type": "markdown",
   "metadata": {},
   "source": [
    "### Bottleneck distance"
   ]
  },
  {
   "cell_type": "markdown",
   "metadata": {},
   "source": [
    "To exploit the topological information and topological features inferred from persistent homology, one needs to be able to compare persistence diagrams.\n",
    "\n",
    "We see a persistence diagram as the union of its points and of the diagonal, where the point of the diagonal are counted with infinite multiplicity. \n",
    "\n",
    "A matching  between two diagrams $\\mathrm{dgm}_1$ and $\\mathrm{dgm}_2$ is a subset $m \\subseteq \\mathrm{dgm}_1 \\times \\mathrm{dgm}_2$ such that every points in $\\mathrm{dgm}_1 \\setminus \\Delta$ and $\\mathrm{dgm}_2 \\setminus \\Delta$ appears exactly once in $m$. \n",
    "\n",
    "<img src=\"Images/MatchingDiag.png\"  style=\"width: 400px;\"/>\n",
    "\n",
    "The **Bottleneck distance** between $\\mathrm{dgm}_1$ and $\\mathrm{dgm}_2$ is then defined by\n",
    "\n",
    "$$\n",
    "\\mathrm{d}_b (\\mathrm{dgm}1, \\mathrm{dgm}_2) =\\inf_{\\scriptsize{\\mbox{matching}} \\ m} \\max_{(p,q) \\in m} \\| p-q \\|_\\infty.\n",
    "$$"
   ]
  },
  {
   "cell_type": "markdown",
   "metadata": {},
   "source": [
    "Let us compute the Rips complex filtration for another configuration of protein"
   ]
  },
  {
   "cell_type": "code",
   "execution_count": 9,
   "metadata": {},
   "outputs": [],
   "source": [
    "D1 = dist_list[1]\n",
    "\n",
    "skeleton_protein1 = gd.RipsComplex(\n",
    "    distance_matrix = D1.values, \n",
    "    max_edge_length = 0.8\n",
    ") \n",
    "\n",
    "Rips_simplex_tree_protein1 = skeleton_protein1.create_simplex_tree(max_dimension = 2)"
   ]
  },
  {
   "cell_type": "markdown",
   "metadata": {},
   "source": [
    "and the barcode for this filtration:"
   ]
  },
  {
   "cell_type": "code",
   "execution_count": 10,
   "metadata": {},
   "outputs": [],
   "source": [
    "BarCodes_Rips1 = Rips_simplex_tree_protein1.persistence()"
   ]
  },
  {
   "cell_type": "markdown",
   "metadata": {},
   "source": [
    "The bottleneck distance between the two persistence diagrams can be computed using the <code>bottleneck_distance()</code> function. The bottleneck distance is computed per dimension (for dimension 1 in the example below). We can give in argument of the function the persistence_intervals for a given dimension, which can be computed using the `persistence_intervals_in_dimension()` function. \n"
   ]
  },
  {
   "cell_type": "code",
   "execution_count": 11,
   "metadata": {},
   "outputs": [
    {
     "data": {
      "text/plain": [
       "0.05052142999999998"
      ]
     },
     "execution_count": 11,
     "metadata": {},
     "output_type": "execute_result"
    }
   ],
   "source": [
    "I0 = Rips_simplex_tree_protein0.persistence_intervals_in_dimension(1)\n",
    "I1 = Rips_simplex_tree_protein1.persistence_intervals_in_dimension(1)\n",
    "\n",
    "gd.bottleneck_distance(I0, I1)"
   ]
  },
  {
   "cell_type": "markdown",
   "metadata": {},
   "source": [
    "By default, the function uses an expensive algorithm to compute the exact bottleneck distance. It is also possible to compute an approximated bottleneck distance (additional approximation error given in argument), which is usually a lot faster to compute. See the [documention](http://gudhi.gforge.inria.fr/python/latest/bottleneck_distance_user.html#gudhi.bottleneck_distance) for more details."
   ]
  },
  {
   "cell_type": "code",
   "execution_count": 12,
   "metadata": {},
   "outputs": [
    {
     "data": {
      "text/plain": [
       "0.05061900451758505"
      ]
     },
     "execution_count": 12,
     "metadata": {},
     "output_type": "execute_result"
    }
   ],
   "source": [
    "gd.bottleneck_distance(I0, I1, 0.01)"
   ]
  },
  {
   "cell_type": "markdown",
   "metadata": {},
   "source": [
    "### MDS on the Bottleneck distances"
   ]
  },
  {
   "cell_type": "markdown",
   "metadata": {},
   "source": [
    "A simple approach for comparing the MPB configurations is to use the Bottleneck distances between configurations. We first compute the Rips complex filtration for each MPB:"
   ]
  },
  {
   "cell_type": "code",
   "execution_count": 13,
   "metadata": {},
   "outputs": [
    {
     "name": "stdout",
     "output_type": "stream",
     "text": [
      "0\n",
      "1\n",
      "2\n",
      "3\n",
      "4\n",
      "5\n",
      "6\n",
      "7\n",
      "8\n",
      "9\n",
      "10\n",
      "11\n",
      "12\n",
      "13\n"
     ]
    }
   ],
   "source": [
    "persistence_list0 = []\n",
    "persistence_list1 = []\n",
    "\n",
    "i=0\n",
    "for d in dist_list:\n",
    "    print(i)\n",
    "    rips_complex = gd.RipsComplex(\n",
    "        distance_matrix = d.values, \n",
    "        max_edge_length = 0.8\n",
    "    )\n",
    "    simplex_tree = rips_complex.create_simplex_tree(max_dimension = 2)\n",
    "    diag = simplex_tree.persistence()\n",
    "    persistence_list0.append(simplex_tree.persistence_intervals_in_dimension(0))\n",
    "    persistence_list1.append(simplex_tree.persistence_intervals_in_dimension(1))\n",
    "    i = i + 1"
   ]
  },
  {
   "cell_type": "markdown",
   "metadata": {},
   "source": [
    "Next, we compute the matrix of Bottleneck distances for dimensions $0$ and $1$:"
   ]
  },
  {
   "cell_type": "code",
   "execution_count": 14,
   "metadata": {},
   "outputs": [],
   "source": [
    "l = len(files_list)\n",
    "B0 = np.zeros((l, l))\n",
    "B1 = np.zeros((l, l))"
   ]
  },
  {
   "cell_type": "code",
   "execution_count": 15,
   "metadata": {},
   "outputs": [],
   "source": [
    "for i in range(l):\n",
    "    for j in range(i):\n",
    "        B0[i,j] = gd.bottleneck_distance(persistence_list0[i], persistence_list0[j])\n",
    "        B1[i,j] = gd.bottleneck_distance(persistence_list1[i], persistence_list1[j])"
   ]
  },
  {
   "cell_type": "code",
   "execution_count": 16,
   "metadata": {},
   "outputs": [],
   "source": [
    "B0 = B0 + B0.transpose()\n",
    "B1 = B1 + B1.transpose()"
   ]
  },
  {
   "cell_type": "markdown",
   "metadata": {},
   "source": [
    "We apply a Multidimensional Scaling method (from the [<code>scikit-learn</code>](http://scikit-learn.org/stable/) library)  to visualize the Bottleneck distances:"
   ]
  },
  {
   "cell_type": "code",
   "execution_count": 17,
   "metadata": {},
   "outputs": [],
   "source": [
    "mds = manifold.MDS(\n",
    "    n_components = 2, \n",
    "    max_iter = 3000, \n",
    "    eps = 1e-9, \n",
    "    dissimilarity = \"precomputed\", \n",
    "    n_jobs = 1\n",
    ")\n",
    "pos = mds.fit(B0).embedding_"
   ]
  },
  {
   "cell_type": "code",
   "execution_count": 18,
   "metadata": {},
   "outputs": [
    {
     "data": {
      "image/png": "[encoded data removed]",
      "text/plain": [
       "<Figure size 432x288 with 1 Axes>"
      ]
     },
     "metadata": {
      "needs_background": "light"
     },
     "output_type": "display_data"
    }
   ],
   "source": [
    "plt.scatter(pos[0:7, 0], pos[0:7, 1], color = 'red' , label = \"closed\")\n",
    "plt.scatter(pos[7:l, 0], pos[7:l, 1], color = 'blue', label = \"open\")\n",
    "plt.legend(loc = 3, borderaxespad = 1);"
   ]
  },
  {
   "cell_type": "code",
   "execution_count": 19,
   "metadata": {},
   "outputs": [],
   "source": [
    "pos = mds.fit(B1).embedding_"
   ]
  },
  {
   "cell_type": "code",
   "execution_count": 20,
   "metadata": {},
   "outputs": [
    {
     "data": {
      "image/png": "[encoded data removed]",
      "text/plain": [
       "<Figure size 432x288 with 1 Axes>"
      ]
     },
     "metadata": {
      "needs_background": "light"
     },
     "output_type": "display_data"
    }
   ],
   "source": [
    "plt.scatter(pos[0:7, 0], pos[0:7, 1], color = 'red' , label = \"closed\")\n",
    "plt.scatter(pos[7:l, 0], pos[7:l, 1], color = 'blue', label = \"open\")\n",
    "plt.legend(loc = 3, borderaxespad = 1);"
   ]
  }
 ],
 "metadata": {
  "anaconda-cloud": {},
  "kernelspec": {
   "display_name": "Python 3",
   "language": "python",
   "name": "python3"
  },
  "language_info": {
   "codemirror_mode": {
    "name": "ipython",
    "version": 3
   },
   "file_extension": ".py",
   "mimetype": "text/x-python",
   "name": "python",
   "nbconvert_exporter": "python",
   "pygments_lexer": "ipython3",
   "version": "3.7.4"
  },
  "toc": {
   "base_numbering": 1,
   "nav_menu": {},
   "number_sections": true,
   "sideBar": true,
   "skip_h1_title": false,
   "title_cell": "Table of Contents",
   "title_sidebar": "Contents",
   "toc_cell": false,
   "toc_position": {},
   "toc_section_display": true,
   "toc_window_display": false
  }
 },
 "nbformat": 4,
 "nbformat_minor": 1
}
